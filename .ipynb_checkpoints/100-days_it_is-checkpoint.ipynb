{
 "cells": [
  {
   "cell_type": "markdown",
   "id": "3e5fe4dd",
   "metadata": {},
   "source": [
    "In a science research lab, combining two\n",
    "nuclear chemicals produces a maximum\n",
    "energy that is the product of the energy of the\n",
    "two chemicals  \n",
    "\n",
    "FIND TWO MAXIMUM NUMBERS FROM GIVEN LIST"
   ]
  },
  {
   "cell_type": "code",
   "execution_count": 1,
   "id": "85235706",
   "metadata": {},
   "outputs": [
    {
     "name": "stdout",
     "output_type": "stream",
     "text": [
      "enter n:4\n",
      "10 \n",
      "2\n",
      "10\n",
      "9\n",
      "[10, 2, 10, 9]\n",
      "[2, 9, 10, 10]\n",
      "20\n"
     ]
    }
   ],
   "source": [
    "\n",
    "n=int(input(\"enter n:\"))\n",
    "try:\n",
    "    list=[]\n",
    "    for i in range(n):\n",
    "        list.append(int(input()))\n",
    "except:\n",
    "    print(list)\n",
    "print(list)\n",
    "list.sort()\n",
    "print(list)    \n",
    "print(list[-1]+list[-2])"
   ]
  },
  {
   "cell_type": "markdown",
   "id": "9e3dfbb0",
   "metadata": {},
   "source": [
    "bitwise opertaions\n",
    "~ tilde :works on 8 bits   \n",
    "& bitwise &\n",
    "| bitwise or |\n",
    " left shift <<\n",
    " right shift >>"
   ]
  },
  {
   "cell_type": "code",
   "execution_count": 4,
   "id": "def8943f",
   "metadata": {},
   "outputs": [
    {
     "name": "stdout",
     "output_type": "stream",
     "text": [
      "-15\n"
     ]
    }
   ],
   "source": [
    "print(~14)"
   ]
  },
  {
   "cell_type": "code",
   "execution_count": 2,
   "id": "46acbcb8",
   "metadata": {},
   "outputs": [
    {
     "name": "stdout",
     "output_type": "stream",
     "text": [
      "-16\n"
     ]
    }
   ],
   "source": [
    " print(~10+~4)"
   ]
  },
  {
   "cell_type": "code",
   "execution_count": 4,
   "id": "890b7cdd",
   "metadata": {},
   "outputs": [
    {
     "name": "stdout",
     "output_type": "stream",
     "text": [
      "2\n"
     ]
    }
   ],
   "source": [
    "print(10 & 2)"
   ]
  },
  {
   "cell_type": "code",
   "execution_count": 5,
   "id": "4b577c04",
   "metadata": {},
   "outputs": [
    {
     "name": "stdout",
     "output_type": "stream",
     "text": [
      "10\n"
     ]
    }
   ],
   "source": [
    "print(10 | 2)"
   ]
  },
  {
   "cell_type": "code",
   "execution_count": 6,
   "id": "133284ae",
   "metadata": {},
   "outputs": [
    {
     "name": "stdout",
     "output_type": "stream",
     "text": [
      "8\n"
     ]
    }
   ],
   "source": [
    "print(10 ^ 2)"
   ]
  },
  {
   "cell_type": "code",
   "execution_count": 7,
   "id": "78f96718",
   "metadata": {},
   "outputs": [
    {
     "name": "stdout",
     "output_type": "stream",
     "text": [
      "40\n"
     ]
    }
   ],
   "source": [
    "print(10 << 2)"
   ]
  },
  {
   "cell_type": "code",
   "execution_count": 8,
   "id": "b2c4ab4b",
   "metadata": {},
   "outputs": [
    {
     "name": "stdout",
     "output_type": "stream",
     "text": [
      "2\n"
     ]
    }
   ],
   "source": [
    "print(10 >> 2)"
   ]
  },
  {
   "cell_type": "markdown",
   "id": "0cb59218",
   "metadata": {},
   "source": [
    "floor , ceil , pow in math module"
   ]
  },
  {
   "cell_type": "code",
   "execution_count": 23,
   "id": "3ade3e95",
   "metadata": {},
   "outputs": [
    {
     "name": "stdout",
     "output_type": "stream",
     "text": [
      "2\n"
     ]
    }
   ],
   "source": [
    "import math\n",
    "print(math.floor(2.9))"
   ]
  },
  {
   "cell_type": "code",
   "execution_count": 22,
   "id": "08af4664",
   "metadata": {},
   "outputs": [
    {
     "name": "stdout",
     "output_type": "stream",
     "text": [
      "3\n"
     ]
    }
   ],
   "source": [
    "import math\n",
    "print(math.ceil(2.1))"
   ]
  },
  {
   "cell_type": "markdown",
   "id": "fa13d40c",
   "metadata": {},
   "source": [
    "3 ways to import the modules are\n",
    "1)import math\n",
    "\n",
    "2)import math as m\n",
    "\n",
    "3)from math import sqrt,pow"
   ]
  },
  {
   "cell_type": "code",
   "execution_count": 28,
   "id": "2fcec6d7",
   "metadata": {},
   "outputs": [
    {
     "name": "stdout",
     "output_type": "stream",
     "text": [
      "8.0\n"
     ]
    }
   ],
   "source": [
    "import math as m\n",
    "print(m.pow(2,3))"
   ]
  },
  {
   "cell_type": "code",
   "execution_count": 31,
   "id": "41622a18",
   "metadata": {
    "scrolled": true
   },
   "outputs": [
    {
     "name": "stdout",
     "output_type": "stream",
     "text": [
      "27.0\n",
      "2.0\n"
     ]
    }
   ],
   "source": [
    "from math import pow ,sqrt\n",
    "print(pow(3,3))\n",
    "print(sqrt(4))"
   ]
  },
  {
   "cell_type": "markdown",
   "id": "02eb97fa",
   "metadata": {},
   "source": [
    "Even or odd"
   ]
  },
  {
   "cell_type": "code",
   "execution_count": 36,
   "id": "a34e1f90",
   "metadata": {},
   "outputs": [
    {
     "name": "stdout",
     "output_type": "stream",
     "text": [
      "Enter a number:8\n",
      "Even\n"
     ]
    }
   ],
   "source": [
    "n=eval(input(\"Enter a number:\"))\n",
    "print(\"Even\") if(n%2==0) else print(\"Odd\") "
   ]
  },
  {
   "cell_type": "markdown",
   "id": "84817cf7",
   "metadata": {},
   "source": [
    "sum of natural numbers"
   ]
  },
  {
   "cell_type": "code",
   "execution_count": null,
   "id": "c5eb22fc",
   "metadata": {},
   "outputs": [],
   "source": []
  }
 ],
 "metadata": {
  "kernelspec": {
   "display_name": "Python 3 (ipykernel)",
   "language": "python",
   "name": "python3"
  },
  "language_info": {
   "codemirror_mode": {
    "name": "ipython",
    "version": 3
   },
   "file_extension": ".py",
   "mimetype": "text/x-python",
   "name": "python",
   "nbconvert_exporter": "python",
   "pygments_lexer": "ipython3",
   "version": "3.9.7"
  }
 },
 "nbformat": 4,
 "nbformat_minor": 5
}
