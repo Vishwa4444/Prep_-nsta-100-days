{
 "cells": [
  {
   "cell_type": "markdown",
   "id": "3e5fe4dd",
   "metadata": {},
   "source": [
    "In a science research lab, combining two\n",
    "nuclear chemicals produces a maximum\n",
    "energy that is the product of the energy of the\n",
    "two chemicals  \n",
    "\n",
    "FIND TWO MAXIMUM NUMBERS FROM GIVEN LIST"
   ]
  },
  {
   "cell_type": "code",
   "execution_count": null,
   "id": "85235706",
   "metadata": {},
   "outputs": [],
   "source": [
    "\n",
    "n=int(input(\"enter n:\"))\n",
    "try:\n",
    "    list=[]\n",
    "    for i in range(n):\n",
    "        list.append(int(input()))\n",
    "except:\n",
    "    print(list)\n",
    "print(list)\n",
    "list.sort()\n",
    "print(list)    \n",
    "print(list[-1]+list[-2])"
   ]
  },
  {
   "cell_type": "markdown",
   "id": "9e3dfbb0",
   "metadata": {},
   "source": [
    "bitwise opertaions\n",
    "~ tilde :works on 8 bits   \n",
    "& bitwise &\n",
    "| bitwise or |\n",
    " left shift <<\n",
    " right shift >>"
   ]
  },
  {
   "cell_type": "code",
   "execution_count": null,
   "id": "def8943f",
   "metadata": {},
   "outputs": [],
   "source": [
    "print(~14)"
   ]
  },
  {
   "cell_type": "code",
   "execution_count": null,
   "id": "46acbcb8",
   "metadata": {},
   "outputs": [],
   "source": [
    " print(~10+~4)"
   ]
  },
  {
   "cell_type": "code",
   "execution_count": null,
   "id": "17b7fd59",
   "metadata": {},
   "outputs": [],
   "source": [
    "print(10 & 2)"
   ]
  },
  {
   "cell_type": "code",
   "execution_count": null,
   "id": "438d8481",
   "metadata": {},
   "outputs": [],
   "source": [
    "print(10 | 2)"
   ]
  },
  {
   "cell_type": "code",
   "execution_count": null,
   "id": "47edc40b",
   "metadata": {},
   "outputs": [],
   "source": [
    "print(10 ^ 2)"
   ]
  },
  {
   "cell_type": "code",
   "execution_count": null,
   "id": "e9ad2ab7",
   "metadata": {},
   "outputs": [],
   "source": [
    "print(10 << 2)"
   ]
  },
  {
   "cell_type": "code",
   "execution_count": null,
   "id": "c4990f48",
   "metadata": {},
   "outputs": [],
   "source": [
    "print(10 >> 2)"
   ]
  },
  {
   "cell_type": "markdown",
   "id": "dae07c75",
   "metadata": {},
   "source": [
    "floor , ceil , pow in math module"
   ]
  },
  {
   "cell_type": "code",
   "execution_count": null,
   "id": "2079ce26",
   "metadata": {},
   "outputs": [],
   "source": [
    "import math\n",
    "print(math.floor(2.9))"
   ]
  },
  {
   "cell_type": "code",
   "execution_count": null,
   "id": "80770ded",
   "metadata": {},
   "outputs": [],
   "source": [
    "import math\n",
    "print(math.ceil(2.1))"
   ]
  },
  {
   "cell_type": "markdown",
   "id": "6f39bb0d",
   "metadata": {},
   "source": [
    "3 ways to import the modules are\n",
    "1)import math\n",
    "\n",
    "2)import math as m\n",
    "\n",
    "3)from math import sqrt,pow"
   ]
  },
  {
   "cell_type": "code",
   "execution_count": null,
   "id": "1e359fa5",
   "metadata": {},
   "outputs": [],
   "source": [
    "import math as m\n",
    "print(m.pow(2,3))"
   ]
  },
  {
   "cell_type": "code",
   "execution_count": null,
   "id": "2d6b1cd8",
   "metadata": {
    "scrolled": true
   },
   "outputs": [],
   "source": [
    "from math import pow ,sqrt\n",
    "print(pow(3,3))\n",
    "print(sqrt(4))"
   ]
  },
  {
   "cell_type": "markdown",
   "id": "4253d295",
   "metadata": {},
   "source": [
    "program to find Even or odd"
   ]
  },
  {
   "cell_type": "code",
   "execution_count": null,
   "id": "7ebcbef1",
   "metadata": {},
   "outputs": [],
   "source": [
    "n=int(input(\"Enter a number:\"))\n",
    "print(\"Even\") if(n%2==0) else print(\"Odd\") "
   ]
  },
  {
   "cell_type": "markdown",
   "id": "164e2525",
   "metadata": {},
   "source": [
    "program to find sum of natural numbers"
   ]
  },
  {
   "cell_type": "code",
   "execution_count": null,
   "id": "862ec2f2",
   "metadata": {},
   "outputs": [],
   "source": [
    "n = eval(input(\"enter the numbers:\"))\n",
    "print((n*(n+1))/2)"
   ]
  },
  {
   "cell_type": "markdown",
   "id": "7698079e",
   "metadata": {},
   "source": [
    "program to find greatest three numbers"
   ]
  },
  {
   "cell_type": "code",
   "execution_count": null,
   "id": "9e2849c0",
   "metadata": {},
   "outputs": [],
   "source": [
    "n1,n2,n3=10,20,30\n",
    "max=n1 if n1>n2 else n2\n",
    "max=n3 if n3>max else max\n",
    "print(max)"
   ]
  },
  {
   "cell_type": "markdown",
   "id": "6a3e2f92",
   "metadata": {},
   "source": [
    "program to find greatest of two numbers"
   ]
  },
  {
   "cell_type": "code",
   "execution_count": null,
   "id": "2e811051",
   "metadata": {},
   "outputs": [],
   "source": [
    "n1,n2=10,40\n",
    "print(n1) if (n1>n2) else print(n2)"
   ]
  },
  {
   "cell_type": "markdown",
   "id": "5d400b42",
   "metadata": {},
   "source": [
    "program to find leap year or not\n",
    "\n",
    "two conditions to  be in leap year\n",
    "\n",
    "1)it must be divisible by 400 \n",
    "\n",
    "2))it must divisible by 4 and not by 100\n"
   ]
  },
  {
   "cell_type": "code",
   "execution_count": null,
   "id": "dba79def",
   "metadata": {},
   "outputs": [],
   "source": [
    "year=int(input(\"Enter the year to check if its a leap year or not \"))\n",
    "print(\"leap year\") if (year%400==0 or year%4==0 and year%100!=0) else print(\"not leap year\")"
   ]
  },
  {
   "cell_type": "code",
   "execution_count": null,
   "id": "6bf4fd40",
   "metadata": {},
   "outputs": [],
   "source": [
    "program to find prime number "
   ]
  },
  {
   "cell_type": "code",
   "execution_count": null,
   "id": "f7fdbeda",
   "metadata": {},
   "outputs": [],
   "source": [
    "n=27\n",
    "flag=0\n",
    "\n",
    "if n<2:\n",
    "    flag=1\n",
    "    \n",
    "else:\n",
    "    for i in range(2,int(pow(n,0.5)+1)):\n",
    "        if n%i==0:\n",
    "            flag=1\n",
    "            break\n",
    "print(\"Not Prime\") if flag == 1 else print(\"Prime\")            \n",
    "\n",
    "            "
   ]
  },
  {
   "cell_type": "markdown",
   "id": "b4905861",
   "metadata": {},
   "source": [
    "program to find prime number by recursion method"
   ]
  },
  {
   "cell_type": "code",
   "execution_count": 2,
   "id": "29181a15",
   "metadata": {},
   "outputs": [
    {
     "name": "stdout",
     "output_type": "stream",
     "text": [
      "Prime\n"
     ]
    }
   ],
   "source": [
    "n=151\n",
    "def checkPrime(n,i=2):\n",
    "    if n == i:\n",
    "        return True\n",
    "    if n%i==0:\n",
    "        return False\n",
    "    if n<2:\n",
    "        return False\n",
    "    return checkPrime(n,i+1)\n",
    "\n",
    "if checkPrime(n)==True:\n",
    "    print(\"Prime\")\n",
    "else:\n",
    "    print(\"Not Prime\")"
   ]
  },
  {
   "cell_type": "code",
   "execution_count": 1,
   "id": "0db1ec64",
   "metadata": {},
   "outputs": [
    {
     "name": "stdout",
     "output_type": "stream",
     "text": [
      "Enter  a number to check :3\n",
      "Prime\n",
      "Enter  a number to check :1\n",
      "Not prime\n",
      "Enter  a number to check :-1\n",
      "Not prime\n",
      "Enter  a number to check :7\n",
      "Prime\n"
     ]
    }
   ],
   "source": [
    "for i in range(4):\n",
    "    n=int(input(\"Enter  a number to check :\"))\n",
    "    \n",
    "    flag=0\n",
    "    if n<2:\n",
    "        flag=1\n",
    "    else:\n",
    "        for i in range(2,int(pow(n,0.5)+1)):\n",
    "            if n%i==0:\n",
    "                flag=1\n",
    "                break\n",
    "    print(\"Not prime\") if flag==1 else print(\"Prime\")"
   ]
  },
  {
   "cell_type": "markdown",
   "id": "218b72e8",
   "metadata": {},
   "source": [
    "program to print prime numbers in given range"
   ]
  },
  {
   "cell_type": "code",
   "execution_count": 3,
   "id": "a9bc13eb",
   "metadata": {},
   "outputs": [
    {
     "name": "stdout",
     "output_type": "stream",
     "text": [
      "Enter the lower range:2\n",
      "Enter the Higher range:9\n",
      "2 3 5 7 "
     ]
    }
   ],
   "source": [
    "Lower_Range  =  int(input(\"Enter the lower range:\"))\n",
    "Higher_Range =  int(input(\"Enter the Higher range:\"))\n",
    "for n in range(Lower_Range,Higher_Range+1):\n",
    "    if n>1:\n",
    "        for i in range(2,n):\n",
    "            if n%i==0:\n",
    "                break\n",
    "        else:\n",
    "            print(n,end=\" \")"
   ]
  },
  {
   "cell_type": "markdown",
   "id": "46dcc530",
   "metadata": {},
   "source": [
    "program to find sum of given integer"
   ]
  },
  {
   "cell_type": "code",
   "execution_count": 1,
   "id": "8a4babf7",
   "metadata": {},
   "outputs": [
    {
     "name": "stdout",
     "output_type": "stream",
     "text": [
      "12\n"
     ]
    }
   ],
   "source": [
    "n=129\n",
    "sum=0\n",
    "while n>0:\n",
    "    \n",
    "    rem=n%10\n",
    "    sum=sum+rem\n",
    "    n=n//10\n",
    "print(sum)"
   ]
  },
  {
   "cell_type": "markdown",
   "id": "5f19f918",
   "metadata": {},
   "source": [
    "program to find revere number"
   ]
  },
  {
   "cell_type": "code",
   "execution_count": 4,
   "id": "38a2bb18",
   "metadata": {},
   "outputs": [
    {
     "name": "stdout",
     "output_type": "stream",
     "text": [
      "321\n"
     ]
    }
   ],
   "source": [
    "n = 123\n",
    "rev=0\n",
    "while n>0:\n",
    "    rev = rev * 10 + n % 10\n",
    "    n=n//10\n",
    "print(rev)\n",
    "    "
   ]
  },
  {
   "cell_type": "code",
   "execution_count": null,
   "id": "2931506e",
   "metadata": {},
   "outputs": [],
   "source": []
  }
 ],
 "metadata": {
  "kernelspec": {
   "display_name": "Python 3 (ipykernel)",
   "language": "python",
   "name": "python3"
  },
  "language_info": {
   "codemirror_mode": {
    "name": "ipython",
    "version": 3
   },
   "file_extension": ".py",
   "mimetype": "text/x-python",
   "name": "python",
   "nbconvert_exporter": "python",
   "pygments_lexer": "ipython3",
   "version": "3.9.7"
  }
 },
 "nbformat": 4,
 "nbformat_minor": 5
}
