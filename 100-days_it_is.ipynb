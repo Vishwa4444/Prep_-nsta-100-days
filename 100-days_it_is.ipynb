{
 "cells": [
  {
   "cell_type": "markdown",
   "id": "3e5fe4dd",
   "metadata": {},
   "source": [
    "#In a science research lab, combining two\n",
    "#nuclear chemicals produces a maximum\n",
    "#energy that is the product of the energy of the\n",
    "#two chemicals  \n",
    "\n",
    "#FIND TWO MAXIMUM NUMBERS FROM GIVEN LIST"
   ]
  },
  {
   "cell_type": "code",
   "execution_count": 22,
   "id": "85235706",
   "metadata": {},
   "outputs": [
    {
     "name": "stdout",
     "output_type": "stream",
     "text": [
      "enter n:4\n",
      "12\n",
      "34\n",
      "54\n",
      "123\n",
      "[12, 34, 54, 123]\n",
      "[12, 34, 54, 123]\n",
      "177\n"
     ]
    }
   ],
   "source": [
    "\n",
    "n=int(input(\"enter n:\"))\n",
    "try:\n",
    "    list=[]\n",
    "    for i in range(n):\n",
    "        list.append(int(input()))\n",
    "except:\n",
    "    print(list)\n",
    "print(list)\n",
    "list.sort()\n",
    "print(list)    \n",
    "print(list[-1]+list[-2])"
   ]
  },
  {
   "cell_type": "markdown",
   "id": "9e3dfbb0",
   "metadata": {},
   "source": [
    "<!-- bitwise opertaions\n",
    "~ tilde :works on 8 bits   \n",
    "& bitwise &\n",
    "| bitwise or |\n",
    " left shift <<\n",
    " right shift >> -->"
   ]
  },
  {
   "cell_type": "markdown",
   "id": "c8e8a4d4",
   "metadata": {},
   "source": [
    "#bitwise operators  ~,&,|,^"
   ]
  },
  {
   "cell_type": "code",
   "execution_count": 24,
   "id": "46acbcb8",
   "metadata": {},
   "outputs": [
    {
     "name": "stdout",
     "output_type": "stream",
     "text": [
      "-16\n"
     ]
    }
   ],
   "source": [
    " print(~10+~4)"
   ]
  },
  {
   "cell_type": "code",
   "execution_count": 25,
   "id": "17b7fd59",
   "metadata": {},
   "outputs": [
    {
     "name": "stdout",
     "output_type": "stream",
     "text": [
      "2\n"
     ]
    }
   ],
   "source": [
    "print(10 & 2)"
   ]
  },
  {
   "cell_type": "code",
   "execution_count": 26,
   "id": "438d8481",
   "metadata": {},
   "outputs": [
    {
     "name": "stdout",
     "output_type": "stream",
     "text": [
      "10\n"
     ]
    }
   ],
   "source": [
    "print(10 | 2)"
   ]
  },
  {
   "cell_type": "code",
   "execution_count": 27,
   "id": "47edc40b",
   "metadata": {},
   "outputs": [
    {
     "name": "stdout",
     "output_type": "stream",
     "text": [
      "8\n"
     ]
    }
   ],
   "source": [
    "print(10 ^ 2)"
   ]
  },
  {
   "cell_type": "code",
   "execution_count": 28,
   "id": "e9ad2ab7",
   "metadata": {},
   "outputs": [
    {
     "name": "stdout",
     "output_type": "stream",
     "text": [
      "40\n"
     ]
    }
   ],
   "source": [
    "print(10 << 2)"
   ]
  },
  {
   "cell_type": "code",
   "execution_count": 29,
   "id": "c4990f48",
   "metadata": {},
   "outputs": [
    {
     "name": "stdout",
     "output_type": "stream",
     "text": [
      "2\n"
     ]
    }
   ],
   "source": [
    "print(10 >> 2)"
   ]
  },
  {
   "cell_type": "markdown",
   "id": "dae07c75",
   "metadata": {},
   "source": [
    "#floor , ceil , pow in math module"
   ]
  },
  {
   "cell_type": "code",
   "execution_count": 30,
   "id": "2079ce26",
   "metadata": {},
   "outputs": [
    {
     "name": "stdout",
     "output_type": "stream",
     "text": [
      "2\n"
     ]
    }
   ],
   "source": [
    "import math\n",
    "print(math.floor(2.9))"
   ]
  },
  {
   "cell_type": "code",
   "execution_count": 31,
   "id": "80770ded",
   "metadata": {},
   "outputs": [
    {
     "name": "stdout",
     "output_type": "stream",
     "text": [
      "3\n"
     ]
    }
   ],
   "source": [
    "import math\n",
    "print(math.ceil(2.1))"
   ]
  },
  {
   "cell_type": "markdown",
   "id": "6f39bb0d",
   "metadata": {},
   "source": [
    "3 ways to import the modules are\n",
    "1)import math\n",
    "\n",
    "2)import math as m\n",
    "\n",
    "3)from math import sqrt,pow"
   ]
  },
  {
   "cell_type": "code",
   "execution_count": 32,
   "id": "1e359fa5",
   "metadata": {},
   "outputs": [
    {
     "name": "stdout",
     "output_type": "stream",
     "text": [
      "8.0\n"
     ]
    }
   ],
   "source": [
    "import math as m\n",
    "print(m.pow(2,3))"
   ]
  },
  {
   "cell_type": "code",
   "execution_count": 33,
   "id": "2d6b1cd8",
   "metadata": {
    "scrolled": true
   },
   "outputs": [
    {
     "name": "stdout",
     "output_type": "stream",
     "text": [
      "27.0\n",
      "2.0\n"
     ]
    }
   ],
   "source": [
    "from math import pow ,sqrt\n",
    "print(pow(3,3))\n",
    "print(sqrt(4))"
   ]
  },
  {
   "cell_type": "markdown",
   "id": "4253d295",
   "metadata": {},
   "source": [
    "#program to find Even or odd"
   ]
  },
  {
   "cell_type": "code",
   "execution_count": 34,
   "id": "7ebcbef1",
   "metadata": {},
   "outputs": [
    {
     "name": "stdout",
     "output_type": "stream",
     "text": [
      "Enter a number:5\n",
      "Odd\n"
     ]
    }
   ],
   "source": [
    "n=int(input(\"Enter a number:\"))\n",
    "print(\"Even\") if(n%2==0) else print(\"Odd\") "
   ]
  },
  {
   "cell_type": "markdown",
   "id": "164e2525",
   "metadata": {},
   "source": [
    "#program to find sum of natural numbers"
   ]
  },
  {
   "cell_type": "code",
   "execution_count": 35,
   "id": "862ec2f2",
   "metadata": {},
   "outputs": [
    {
     "name": "stdout",
     "output_type": "stream",
     "text": [
      "enter the numbers:4\n",
      "10.0\n"
     ]
    }
   ],
   "source": [
    "n = eval(input(\"enter the numbers:\"))\n",
    "print((n*(n+1))/2)"
   ]
  },
  {
   "cell_type": "markdown",
   "id": "7698079e",
   "metadata": {},
   "source": [
    " #program to find greatest three numbers"
   ]
  },
  {
   "cell_type": "code",
   "execution_count": 36,
   "id": "9e2849c0",
   "metadata": {},
   "outputs": [
    {
     "name": "stdout",
     "output_type": "stream",
     "text": [
      "30\n"
     ]
    }
   ],
   "source": [
    "n1,n2,n3=10,20,30\n",
    "max=n1 if n1>n2 else n2\n",
    "max=n3 if n3>max else max\n",
    "print(max)"
   ]
  },
  {
   "cell_type": "markdown",
   "id": "6a3e2f92",
   "metadata": {},
   "source": [
    "#program to find greatest of two numbers"
   ]
  },
  {
   "cell_type": "code",
   "execution_count": 37,
   "id": "2e811051",
   "metadata": {},
   "outputs": [
    {
     "name": "stdout",
     "output_type": "stream",
     "text": [
      "40\n"
     ]
    }
   ],
   "source": [
    "n1,n2=10,40\n",
    "print(n1) if (n1>n2) else print(n2)"
   ]
  },
  {
   "cell_type": "markdown",
   "id": "5d400b42",
   "metadata": {},
   "source": [
    "#program to find leap year or not\n",
    "\n",
    "#two conditions to  be in leap year\n",
    "\n",
    "# 1)it must be divisible by 400 \n",
    "\n",
    "# 2)it must divisible by 4 and not by 100\n"
   ]
  },
  {
   "cell_type": "code",
   "execution_count": 38,
   "id": "dba79def",
   "metadata": {},
   "outputs": [
    {
     "name": "stdout",
     "output_type": "stream",
     "text": [
      "Enter the year to check if its a leap year or not 2012\n",
      "leap year\n"
     ]
    }
   ],
   "source": [
    "year=int(input(\"Enter the year to check if its a leap year or not \"))\n",
    "print(\"leap year\") if (year%400==0 or year%4==0 and year%100!=0) else print(\"not leap year\")"
   ]
  },
  {
   "cell_type": "markdown",
   "id": "8b712d0b",
   "metadata": {},
   "source": [
    "#program to find prime number "
   ]
  },
  {
   "cell_type": "code",
   "execution_count": 39,
   "id": "f7fdbeda",
   "metadata": {},
   "outputs": [
    {
     "name": "stdout",
     "output_type": "stream",
     "text": [
      "Not Prime\n"
     ]
    }
   ],
   "source": [
    "n=27\n",
    "flag=0\n",
    "\n",
    "if n<2:\n",
    "    flag=1\n",
    "    \n",
    "else:\n",
    "    for i in range(2,int(pow(n,0.5)+1)):\n",
    "        if n%i==0:\n",
    "            flag=1\n",
    "            break\n",
    "print(\"Not Prime\") if flag == 1 else print(\"Prime\")            \n",
    "\n",
    "            "
   ]
  },
  {
   "cell_type": "markdown",
   "id": "b4905861",
   "metadata": {},
   "source": [
    "#program to find prime number by recursion method"
   ]
  },
  {
   "cell_type": "code",
   "execution_count": 40,
   "id": "29181a15",
   "metadata": {},
   "outputs": [
    {
     "name": "stdout",
     "output_type": "stream",
     "text": [
      "Prime\n"
     ]
    }
   ],
   "source": [
    "n=151\n",
    "def checkPrime(n,i=2):\n",
    "    if n == i:\n",
    "        return True\n",
    "    if n%i==0:\n",
    "        return False\n",
    "    if n<2:\n",
    "        return False\n",
    "    return checkPrime(n,i+1)\n",
    "\n",
    "if checkPrime(n)==True:\n",
    "    print(\"Prime\")\n",
    "else:\n",
    "    print(\"Not Prime\")"
   ]
  },
  {
   "cell_type": "code",
   "execution_count": null,
   "id": "0db1ec64",
   "metadata": {},
   "outputs": [
    {
     "name": "stdout",
     "output_type": "stream",
     "text": [
      "Enter  a number to check :3\n",
      "Prime\n"
     ]
    }
   ],
   "source": [
    "for i in range(4):\n",
    "    n=int(input(\"Enter  a number to check :\"))\n",
    "    \n",
    "    flag=0\n",
    "    if n<2:\n",
    "        flag=1\n",
    "    else:\n",
    "        for i in range(2,int(pow(n,0.5)+1)):\n",
    "            if n%i==0:\n",
    "                flag=1\n",
    "                break\n",
    "    print(\"Not prime\") if flag==1 else print(\"Prime\")"
   ]
  },
  {
   "cell_type": "markdown",
   "id": "c157c45a",
   "metadata": {},
   "source": [
    "#program to print prime numbers in given range"
   ]
  },
  {
   "cell_type": "code",
   "execution_count": 1,
   "id": "a9bc13eb",
   "metadata": {},
   "outputs": [
    {
     "name": "stdout",
     "output_type": "stream",
     "text": [
      "Enter the lower range:3\n",
      "Enter the Higher range:23\n",
      "3 5 7 11 13 17 19 23 "
     ]
    }
   ],
   "source": [
    "Lower_Range  =  int(input(\"Enter the lower range:\"))\n",
    "Higher_Range =  int(input(\"Enter the Higher range:\"))\n",
    "for n in range(Lower_Range,Higher_Range+1):\n",
    "    if n>1:\n",
    "        for i in range(2,n):\n",
    "            if n%i==0:\n",
    "                break\n",
    "        else:\n",
    "            print(n,end=\" \")"
   ]
  },
  {
   "cell_type": "markdown",
   "id": "a4a47ca9",
   "metadata": {},
   "source": [
    "#program to find sum of given integer"
   ]
  },
  {
   "cell_type": "code",
   "execution_count": 4,
   "id": "8c20fe20",
   "metadata": {},
   "outputs": [
    {
     "name": "stdout",
     "output_type": "stream",
     "text": [
      "21\n",
      "GOOGLY\n"
     ]
    }
   ],
   "source": [
    "n=int(input())\n",
    "sum=0\n",
    "while n>0:\n",
    "    \n",
    "    rem=n%10\n",
    "    sum=sum+rem\n",
    "    n=n//10\n",
    "n=sum\n",
    "def checkPrime(n,i=2):\n",
    "    if n == i:\n",
    "        return True\n",
    "    if n%i==0:\n",
    "        return False\n",
    "    if n<2:\n",
    "        return False\n",
    "    return checkPrime(n,i+1)\n",
    "\n",
    "if checkPrime(n)==True:\n",
    "    print(\"GOOGLY\")\n",
    "else:\n",
    "    print(\"NOT GOOGLY\")"
   ]
  },
  {
   "cell_type": "markdown",
   "id": "5c16aa67",
   "metadata": {},
   "source": [
    "#program to find revere number"
   ]
  },
  {
   "cell_type": "code",
   "execution_count": 44,
   "id": "c6cf99e4",
   "metadata": {},
   "outputs": [
    {
     "name": "stdout",
     "output_type": "stream",
     "text": [
      "Enter a number:234\n",
      "432\n"
     ]
    }
   ],
   "source": [
    "n = int(input(\"Enter a number:\"))\n",
    "rev=0\n",
    "while n>0:\n",
    "    rev = rev * 10 + n % 10\n",
    "    n=n//10\n",
    "print(rev)\n",
    "    "
   ]
  },
  {
   "cell_type": "raw",
   "id": "c0b3072b",
   "metadata": {},
   "source": [
    "#program to check given number is palindrome or not"
   ]
  },
  {
   "cell_type": "code",
   "execution_count": 45,
   "id": "dcad3ea5",
   "metadata": {},
   "outputs": [
    {
     "name": "stdout",
     "output_type": "stream",
     "text": [
      "Is Palindrome Number\n"
     ]
    }
   ],
   "source": [
    "n=11222222222222222222222222222222222222211\n",
    "\n",
    "def checkPalindrome(n):\n",
    "    rev=0\n",
    "    while n>0:\n",
    "        rev=rev*10+n%10\n",
    "        n=n//10\n",
    "    return rev\n",
    "\n",
    "print(\"Is Palindrome Number\") if (checkPalindrome(n)==n) else print(\"Not a Palindrome\")"
   ]
  },
  {
   "cell_type": "markdown",
   "id": "b764b201",
   "metadata": {},
   "source": [
    "#program to check given number is ARMSTRONG or not"
   ]
  },
  {
   "cell_type": "code",
   "execution_count": 46,
   "id": "3bb9ba42",
   "metadata": {},
   "outputs": [
    {
     "name": "stdout",
     "output_type": "stream",
     "text": [
      "ARMSTRONG\n"
     ]
    }
   ],
   "source": [
    "n = 153\n",
    "temp = n\n",
    "order = len(str(n))\n",
    "sum=0\n",
    "for i in range(order):\n",
    "    sum=sum+int(pow(temp%10,order))\n",
    "    temp//=10\n",
    "print(\"ARMSTRONG\") if sum==n else print(\"NOT ARMSTRONG\")\n",
    "    "
   ]
  },
  {
   "cell_type": "markdown",
   "id": "c59b0ae0",
   "metadata": {},
   "source": [
    "#program to print Armstong numbers in given range"
   ]
  },
  {
   "cell_type": "code",
   "execution_count": 47,
   "id": "d0cc56ed",
   "metadata": {},
   "outputs": [
    {
     "name": "stdout",
     "output_type": "stream",
     "text": [
      "1 2 3 4 5 6 7 8 9 153 "
     ]
    }
   ],
   "source": [
    "l=1\n",
    "h=154\n",
    "for n in range(l,h+1):\n",
    "    order=len(str(n))\n",
    "    sum=0\n",
    "    temp=n\n",
    "    while temp>0:\n",
    "        sum=sum+int(pow(temp%10,order))\n",
    "        temp//=10\n",
    "    if n==sum:\n",
    "        print(n,end=\" \")"
   ]
  },
  {
   "cell_type": "markdown",
   "id": "1e5a61d9",
   "metadata": {},
   "source": [
    "#program to print fibonnaci series upto give number"
   ]
  },
  {
   "cell_type": "code",
   "execution_count": 10,
   "id": "add23fd3",
   "metadata": {},
   "outputs": [
    {
     "name": "stdout",
     "output_type": "stream",
     "text": [
      "Enter the number:10\n",
      "FIBONNACI SERIES: 0 1 1 2 3 5 8 13 21 34 "
     ]
    }
   ],
   "source": [
    "n=int(input(\"Enter the number:\"))\n",
    "n1,n2=0,1\n",
    "print(\"FIBONNACI SERIES:\",n1,n2, end=\" \")\n",
    "for i in range(2,n):\n",
    "    n3=n1+n2\n",
    "    n1=n2\n",
    "    n2=n3\n",
    "    print(n3,end=\" \")"
   ]
  },
  {
   "cell_type": "markdown",
   "id": "94b1d8f7",
   "metadata": {},
   "source": [
    "#program to find factorial of given number"
   ]
  },
  {
   "cell_type": "code",
   "execution_count": 11,
   "id": "8719efb7",
   "metadata": {},
   "outputs": [
    {
     "name": "stdout",
     "output_type": "stream",
     "text": [
      "Enter the number:5\n",
      "120 "
     ]
    }
   ],
   "source": [
    "n=int(input(\"Enter the number:\"))\n",
    "fact=1\n",
    "for i in range(1,n+1):\n",
    "    fact=fact*i\n",
    "print(fact,end=\" \")"
   ]
  },
  {
   "cell_type": "markdown",
   "id": "8b55c5ba",
   "metadata": {},
   "source": [
    "#program to take input from user into list"
   ]
  },
  {
   "cell_type": "code",
   "execution_count": 2,
   "id": "fa71cc0f",
   "metadata": {},
   "outputs": [
    {
     "name": "stdout",
     "output_type": "stream",
     "text": [
      "Enter the size of list :4\n",
      "1\n",
      "2\n",
      "3\n",
      "4\n",
      "[1, 2, 3, 4]\n"
     ]
    }
   ],
   "source": [
    "list=[]\n",
    "n=int(input(\"Enter the size of list :\"))\n",
    "\n",
    "for i in range(n):\n",
    "    list.append(int(input()))\n",
    "print(list)"
   ]
  },
  {
   "cell_type": "markdown",
   "id": "d552bdc8",
   "metadata": {},
   "source": [
    "### program to check perfect number"
   ]
  },
  {
   "cell_type": "code",
   "execution_count": 10,
   "id": "6a080cad",
   "metadata": {},
   "outputs": [
    {
     "name": "stdout",
     "output_type": "stream",
     "text": [
      "Enter the number to check perfect no. or not :4\n",
      "Not perfect number\n",
      "Enter the number to check perfect no. or not :6\n",
      "Perfect number\n"
     ]
    }
   ],
   "source": [
    "for i in range(2):\n",
    "    n=int(input(\"Enter the number to check perfect no. or not :\"))\n",
    "    sum=0\n",
    "    for i in range(1,n):\n",
    "        if n%i==0:\n",
    "            sum=sum+i\n",
    "    print(\"Perfect number\") if sum==n else print(\"Not perfect number\")"
   ]
  },
  {
   "cell_type": "markdown",
   "id": "42e0616f",
   "metadata": {},
   "source": [
    "#Program to check given number is AUTOMORPHIC or not, Ex Automorphic: 25 square=625 , so here last two digits of 625 is equal to #25  "
   ]
  },
  {
   "cell_type": "code",
   "execution_count": 2,
   "id": "1dea135c",
   "metadata": {},
   "outputs": [
    {
     "name": "stdout",
     "output_type": "stream",
     "text": [
      "Enter a number to check for Automorphic or no :12\n",
      "Not Automorphic number\n"
     ]
    }
   ],
   "source": [
    "n = int(input(\"Enter a number to check for Automorphic or no :\"))\n",
    "square = pow(n,2)\n",
    "mod = pow(10,len(str(n)))\n",
    "print(\"Automorphic number\") if square%mod==n else print(\"Not Automorphic number\")\n",
    "    "
   ]
  },
  {
   "cell_type": "code",
   "execution_count": 4,
   "id": "8b2a6495",
   "metadata": {},
   "outputs": [
    {
     "name": "stdout",
     "output_type": "stream",
     "text": [
      "Enter a number to check for Automorphic or no :25\n",
      "Automorphic number\n"
     ]
    }
   ],
   "source": [
    "s = int(input(\"Enter a number to check for Automorphic or no :\"))\n",
    "square = pow(s,2)\n",
    "mod = pow(10,len(str(s)))\n",
    "print(\"Automorphic number\") if square%mod==s else print(\"Not Automorphic number\")\n",
    "    "
   ]
  },
  {
   "cell_type": "markdown",
   "id": "ef47d426",
   "metadata": {},
   "source": [
    "#program to find HCF of two numbers"
   ]
  },
  {
   "cell_type": "code",
   "execution_count": 4,
   "id": "c9a163f8",
   "metadata": {},
   "outputs": [
    {
     "name": "stdout",
     "output_type": "stream",
     "text": [
      "hcf of 10 and 12 is : 2\n"
     ]
    }
   ],
   "source": [
    "n1=10\n",
    "n2=12\n",
    "hcf=1\n",
    "for i in range(1,min(n1,n2)):\n",
    "               if n1%i==0 and n2%i==0:\n",
    "                      hcf=i\n",
    "                \n",
    "print(\"hcf of\",n1,\"and\",n2,\"is :\",hcf)\n",
    "                     "
   ]
  },
  {
   "cell_type": "markdown",
   "id": "0adc60b3",
   "metadata": {},
   "source": [
    "#Program to check Harshad number   #harshad no.: No. which is divisible by sum of its no.\n",
    "#Example : 21    , 2+1=3   , 21%3=0"
   ]
  },
  {
   "cell_type": "code",
   "execution_count": 12,
   "id": "9858b28e",
   "metadata": {},
   "outputs": [
    {
     "name": "stdout",
     "output_type": "stream",
     "text": [
      "Enter the Number to check :21\n",
      "3\n",
      "Its Harshad number\n"
     ]
    }
   ],
   "source": [
    "number = int(input(\"Enter the Number to check :\"))\n",
    "n=number\n",
    "sum=0\n",
    "while number>0:\n",
    "    rem = number%10\n",
    "    sum+=rem\n",
    "    number//=10\n",
    "print(sum)\n",
    "print(\"Its Harshad number\") if n%sum==0 else print(\"Not Harshad number\")"
   ]
  },
  {
   "cell_type": "code",
   "execution_count": 11,
   "id": "86d154a9",
   "metadata": {},
   "outputs": [
    {
     "name": "stdout",
     "output_type": "stream",
     "text": [
      "Enter the Number to check :23\n",
      "5\n",
      "Not Harshad number\n"
     ]
    }
   ],
   "source": [
    "number1 = int(input(\"Enter the Number to check :\"))\n",
    "n=number1\n",
    "sum=0\n",
    "while number1>0:\n",
    "    rem = number1%10\n",
    "    sum+=rem\n",
    "    number1//=10\n",
    "print(sum)\n",
    "print(\"Its Harshad number\") if n%sum==0 else print(\"Not Harshad number\")"
   ]
  },
  {
   "cell_type": "markdown",
   "id": "53ec1f20",
   "metadata": {},
   "source": [
    "#program to find LCM of two numbers"
   ]
  },
  {
   "cell_type": "code",
   "execution_count": 16,
   "id": "23848b9a",
   "metadata": {},
   "outputs": [
    {
     "name": "stdout",
     "output_type": "stream",
     "text": [
      "lcm of  24 and 12 is :  24\n"
     ]
    }
   ],
   "source": [
    "n1=24\n",
    "n2=12\n",
    "for i in range(max(n1,n2),1+(n1*n2)):\n",
    "    if i%n1==i%n2==0:\n",
    "         lcm=i\n",
    "         break\n",
    "print(\"lcm of \",n1 ,\"and\",n2,\"is : \",lcm)"
   ]
  },
  {
   "cell_type": "markdown",
   "id": "e818a75b",
   "metadata": {},
   "source": [
    "#Program to convert Binary to Decimal "
   ]
  },
  {
   "cell_type": "code",
   "execution_count": 3,
   "id": "775e0337",
   "metadata": {},
   "outputs": [
    {
     "name": "stdout",
     "output_type": "stream",
     "text": [
      "Enter the Binary number :100\n",
      "\n",
      "Binary value is 100\n",
      "Decimal value is 4\n"
     ]
    }
   ],
   "source": [
    "num=int(input(\"Enter the Binary number :\"))\n",
    "binaryValue = num\n",
    "decimalValue = 0\n",
    "base = 1\n",
    "while num>0:\n",
    "    rem = num%10\n",
    "    decimalValue = decimalValue + rem*base\n",
    "    num//=10\n",
    "    base*=2\n",
    "print(\"\\nBinary value is {}\\nDecimal value is {}\".format(binaryValue,decimalValue))"
   ]
  },
  {
   "cell_type": "markdown",
   "id": "37295451",
   "metadata": {},
   "source": [
    "#program to convert octal to decimal    no 8,9 octals"
   ]
  },
  {
   "cell_type": "code",
   "execution_count": 12,
   "id": "adee6bd5",
   "metadata": {},
   "outputs": [
    {
     "name": "stdout",
     "output_type": "stream",
     "text": [
      "octal number is 30\n",
      "Decimal number is 24\n"
     ]
    }
   ],
   "source": [
    "octalNum = 30\n",
    "decimalNum = int(str(octalNum),8)\n",
    "print(\"octal number is {}\\nDecimal number is {}\".format(octalNum,decimalNum))"
   ]
  },
  {
   "cell_type": "markdown",
   "id": "99f425df",
   "metadata": {},
   "source": [
    "#Program to replace all 0's whith 1's"
   ]
  },
  {
   "cell_type": "code",
   "execution_count": 3,
   "id": "49a463ee",
   "metadata": {},
   "outputs": [
    {
     "name": "stdout",
     "output_type": "stream",
     "text": [
      "Enter the numbers :1202\n",
      "Given number is 1202\n",
      "Converted number is 1212\n"
     ]
    }
   ],
   "source": [
    "n = int(input(\"Enter the numbers :\"))\n",
    "val = str(n)\n",
    "replaced = val.replace('0','1')\n",
    "print(\"Given number is {}\\nConverted number is {}\".format(n,replaced))"
   ]
  },
  {
   "cell_type": "markdown",
   "id": "342f2c6a",
   "metadata": {},
   "source": [
    "#Program to calculate the number of digits in a given number "
   ]
  },
  {
   "cell_type": "code",
   "execution_count": 1,
   "id": "a705eca7",
   "metadata": {},
   "outputs": [
    {
     "name": "stdout",
     "output_type": "stream",
     "text": [
      "Enter the number :4444\n",
      "4\n"
     ]
    }
   ],
   "source": [
    "number = int(input(\"Enter the number :\"))\n",
    "count=0\n",
    "while number>0:\n",
    "    number//=10\n",
    "    count+=1\n",
    "print(count)"
   ]
  },
  {
   "cell_type": "markdown",
   "id": "36de5037",
   "metadata": {},
   "source": [
    "# Program to find ASCII value   /* Use ord() function\n",
    "#Note: ASCII of SPACE is 32"
   ]
  },
  {
   "cell_type": "code",
   "execution_count": 2,
   "id": "43d4ad6e",
   "metadata": {},
   "outputs": [
    {
     "name": "stdout",
     "output_type": "stream",
     "text": [
      "Enter the words/Letter :Vishwa K Angolkar\n",
      "\n",
      "ASCII code of V is 86\n",
      "\n",
      "ASCII code of i is 105\n",
      "\n",
      "ASCII code of s is 115\n",
      "\n",
      "ASCII code of h is 104\n",
      "\n",
      "ASCII code of w is 119\n",
      "\n",
      "ASCII code of a is 97\n",
      "\n",
      "ASCII code of   is 32\n",
      "\n",
      "ASCII code of K is 75\n",
      "\n",
      "ASCII code of   is 32\n",
      "\n",
      "ASCII code of A is 65\n",
      "\n",
      "ASCII code of n is 110\n",
      "\n",
      "ASCII code of g is 103\n",
      "\n",
      "ASCII code of o is 111\n",
      "\n",
      "ASCII code of l is 108\n",
      "\n",
      "ASCII code of k is 107\n",
      "\n",
      "ASCII code of a is 97\n",
      "\n",
      "ASCII code of r is 114\n"
     ]
    }
   ],
   "source": [
    "wordOrLetter  = input('Enter the words/Letter :')\n",
    "for char in wordOrLetter:\n",
    "    print(\"\\nASCII code of {} is {}\".format(char,ord(char)))"
   ]
  },
  {
   "cell_type": "code",
   "execution_count": 13,
   "id": "7ba84e9b",
   "metadata": {},
   "outputs": [],
   "source": [
    "import handcalcs.render #handcalcs is module to render code automatically_in_latin \n",
    "from math import sqrt"
   ]
  },
  {
   "cell_type": "code",
   "execution_count": 14,
   "id": "fc225a81",
   "metadata": {},
   "outputs": [
    {
     "data": {
      "text/latex": [
       "\\[\n",
       "\\begin{aligned}\n",
       "a &= \\mathrm{Vishwa4444} \\; \n",
       "\\\\[10pt]\n",
       "b &= 44 \\; \n",
       "\\\\[10pt]\n",
       "c &= 444 \\; \n",
       "\\\\[10pt]\n",
       "d &= 4444 \\; \n",
       "\\end{aligned}\n",
       "\\]"
      ],
      "text/plain": [
       "<IPython.core.display.Latex object>"
      ]
     },
     "metadata": {},
     "output_type": "display_data"
    }
   ],
   "source": [
    "%%render\n",
    "a=\"Vishwa4444\"\n",
    "b=44\n",
    "c=444\n",
    "d=4444"
   ]
  },
  {
   "cell_type": "markdown",
   "id": "595b8a25",
   "metadata": {},
   "source": [
    "#Program to convert number to words #using num2words module"
   ]
  },
  {
   "cell_type": "code",
   "execution_count": 17,
   "id": "f219c3ae",
   "metadata": {},
   "outputs": [
    {
     "name": "stdout",
     "output_type": "stream",
     "text": [
      "Enter the number :4444\n",
      "\n",
      "\n",
      "4444 in words is four thousand, four hundred and forty-four\n"
     ]
    }
   ],
   "source": [
    "from num2words import num2words\n",
    "#print(num2words(123))\n",
    "str = input(\"Enter the number :\")\n",
    "print(\"\\n\\n{} in words is {}\".format(str,num2words(str)))"
   ]
  },
  {
   "cell_type": "markdown",
   "id": "39b754dc",
   "metadata": {},
   "source": [
    "#Program to take in arrays and print "
   ]
  },
  {
   "cell_type": "code",
   "execution_count": 12,
   "id": "88c6ffda",
   "metadata": {},
   "outputs": [
    {
     "name": "stdout",
     "output_type": "stream",
     "text": [
      "(2545189666480, 5)\n",
      "array('i', [1, 2, 3, 4, 5, 6])\n",
      "array('i', [6, 5, 4, 3, 2, 1])\n",
      "6 5 4 3 2 1 "
     ]
    }
   ],
   "source": [
    "from array import *\n",
    "list = array('i',[1,2,3,4,5])\n",
    "print(list.buffer_info())       #will give the size or length of array\n",
    "list.append(6)\n",
    "print(list)\n",
    "list.reverse()\n",
    "print(list)\n",
    "for i in range(len(list)):\n",
    "    print(list[i],end=\" \")\n",
    "    "
   ]
  },
  {
   "cell_type": "markdown",
   "id": "71945100",
   "metadata": {},
   "source": [
    "#Program to take array then create a newArray and then take square of the given array of each integer  "
   ]
  },
  {
   "cell_type": "code",
   "execution_count": 20,
   "id": "980b8fe5",
   "metadata": {},
   "outputs": [
    {
     "name": "stdout",
     "output_type": "stream",
     "text": [
      "144 1024 1936 3136 6084 "
     ]
    }
   ],
   "source": [
    "from array import *\n",
    "list = array('i',[12,32,44,56,78])\n",
    "#for i in range(len(list)):\n",
    "#    print(list[i],end=\" \")\n",
    "newarr = array(list.typecode,(a*a for a in list))\n",
    "for i in range(len(newarr)):\n",
    "    print(newarr[i],end=\" \")"
   ]
  },
  {
   "cell_type": "markdown",
   "id": "02928b4a",
   "metadata": {},
   "source": [
    "#This gives all the builtins in python"
   ]
  },
  {
   "cell_type": "code",
   "execution_count": 4,
   "id": "7e6d268a",
   "metadata": {},
   "outputs": [
    {
     "name": "stdout",
     "output_type": "stream",
     "text": [
      "['ArithmeticError', 'AssertionError', 'AttributeError', 'BaseException', 'BlockingIOError', 'BrokenPipeError', 'BufferError', 'BytesWarning', 'ChildProcessError', 'ConnectionAbortedError', 'ConnectionError', 'ConnectionRefusedError', 'ConnectionResetError', 'DeprecationWarning', 'EOFError', 'Ellipsis', 'EnvironmentError', 'Exception', 'False', 'FileExistsError', 'FileNotFoundError', 'FloatingPointError', 'FutureWarning', 'GeneratorExit', 'IOError', 'ImportError', 'ImportWarning', 'IndentationError', 'IndexError', 'InterruptedError', 'IsADirectoryError', 'KeyError', 'KeyboardInterrupt', 'LookupError', 'MemoryError', 'ModuleNotFoundError', 'NameError', 'None', 'NotADirectoryError', 'NotImplemented', 'NotImplementedError', 'OSError', 'OverflowError', 'PendingDeprecationWarning', 'PermissionError', 'ProcessLookupError', 'RecursionError', 'ReferenceError', 'ResourceWarning', 'RuntimeError', 'RuntimeWarning', 'StopAsyncIteration', 'StopIteration', 'SyntaxError', 'SyntaxWarning', 'SystemError', 'SystemExit', 'TabError', 'TimeoutError', 'True', 'TypeError', 'UnboundLocalError', 'UnicodeDecodeError', 'UnicodeEncodeError', 'UnicodeError', 'UnicodeTranslateError', 'UnicodeWarning', 'UserWarning', 'ValueError', 'Warning', 'WindowsError', 'ZeroDivisionError', '__IPYTHON__', '__build_class__', '__debug__', '__doc__', '__import__', '__loader__', '__name__', '__package__', '__spec__', 'abs', 'all', 'any', 'ascii', 'bin', 'bool', 'breakpoint', 'bytearray', 'bytes', 'callable', 'chr', 'classmethod', 'compile', 'complex', 'copyright', 'credits', 'delattr', 'dict', 'dir', 'display', 'divmod', 'enumerate', 'eval', 'exec', 'execfile', 'filter', 'float', 'format', 'frozenset', 'get_ipython', 'getattr', 'globals', 'hasattr', 'hash', 'help', 'hex', 'id', 'input', 'int', 'isinstance', 'issubclass', 'iter', 'len', 'license', 'list', 'locals', 'map', 'max', 'memoryview', 'min', 'next', 'object', 'oct', 'open', 'ord', 'pow', 'print', 'property', 'range', 'repr', 'reversed', 'round', 'runfile', 'set', 'setattr', 'slice', 'sorted', 'staticmethod', 'str', 'sum', 'super', 'tuple', 'type', 'vars', 'zip']\n"
     ]
    }
   ],
   "source": [
    "print(dir(__builtins__))"
   ]
  },
  {
   "cell_type": "markdown",
   "id": "e91ddabe",
   "metadata": {},
   "source": [
    "#Program to interchange first letter with the last letter in the list"
   ]
  },
  {
   "cell_type": "code",
   "execution_count": 6,
   "id": "8d5737d4",
   "metadata": {},
   "outputs": [
    {
     "name": "stdout",
     "output_type": "stream",
     "text": [
      "Enter the size of array :4\n",
      "1\n",
      "2\n",
      "3\n",
      "4\n",
      "[1, 2, 3, 4]\n",
      "[4, 2, 3, 1]\n"
     ]
    }
   ],
   "source": [
    "list =[]\n",
    "size = int(input(\"Enter the size of array :\"))\n",
    "for i in range(size):\n",
    "    list.append(int(input()))\n",
    "print(list)\n",
    "a=list[0]\n",
    "b=list[-1]\n",
    "list[-1]=a\n",
    "list[0]=b\n",
    "print(list)"
   ]
  },
  {
   "cell_type": "markdown",
   "id": "c8e7c0ef",
   "metadata": {},
   "source": [
    "##### program to find the second largest number in the list"
   ]
  },
  {
   "cell_type": "code",
   "execution_count": 26,
   "id": "761683de",
   "metadata": {},
   "outputs": [
    {
     "name": "stdout",
     "output_type": "stream",
     "text": [
      "678\n"
     ]
    }
   ],
   "source": [
    "list=[12,13,13334,185,16,678]\n",
    "list.sort()    #python uses Tim sort algorithm to sort.\n",
    "list.pop()\n",
    "for i in range(len(list)):\n",
    "    largest= 12\n",
    "    if list[i]>=largest:\n",
    "        largest=list[i]\n",
    "print(largest)\n",
    "    \n"
   ]
  },
  {
   "cell_type": "markdown",
   "id": "d08c8d1d",
   "metadata": {},
   "source": [
    "#program to separate vowels fro the consonants"
   ]
  },
  {
   "cell_type": "code",
   "execution_count": 10,
   "id": "a609a23d",
   "metadata": {},
   "outputs": [
    {
     "name": "stdout",
     "output_type": "stream",
     "text": [
      "Enter the string :vishwa\n",
      "Vowels are :\n",
      "i,a,\n",
      "\n",
      "Consonants are :\n",
      "v,s,h,w,"
     ]
    }
   ],
   "source": [
    "str = input(\"Enter the string :\")\n",
    "print(\"Vowels are :\")\n",
    "for char in str:\n",
    "    if char in \"aeiouAEIOU\":\n",
    "        print(char,end=\",\")\n",
    "print(\"\\n\\nConsonants are :\")\n",
    "for char in str:\n",
    "    if char not  in \"aeiouAEIOU\":\n",
    "        print(char,end=\",\")\n",
    "         \n",
    "    \n",
    "        \n"
   ]
  },
  {
   "cell_type": "code",
   "execution_count": 1,
   "id": "10214277",
   "metadata": {},
   "outputs": [
    {
     "name": "stdout",
     "output_type": "stream",
     "text": [
      "[2, 12, 32, 33, 34, 67, 233, 233]\n",
      "[2, 12, 32, 33, 34, 67, 233]\n"
     ]
    }
   ],
   "source": [
    "list=[12,34,2,67,33,32,233,233]\n",
    "list.sort()\n",
    "print(list)\n",
    "list.pop()\n",
    "print(list)"
   ]
  },
  {
   "cell_type": "code",
   "execution_count": 2,
   "id": "260055d2",
   "metadata": {},
   "outputs": [
    {
     "name": "stdout",
     "output_type": "stream",
     "text": [
      "Ennter a string to reverse :vishwa k angolkar\n",
      "raklogna k awhsiv\n"
     ]
    }
   ],
   "source": [
    "str = input(\"Ennter a string to reverse :\") \n",
    "#[start:stop:step]\n",
    "print(str[::-1])"
   ]
  },
  {
   "cell_type": "markdown",
   "id": "f3208f3f",
   "metadata": {},
   "source": [
    "#program to find the maximun number of the handshakes done by a person in a room "
   ]
  },
  {
   "cell_type": "code",
   "execution_count": 1,
   "id": "1470e087",
   "metadata": {},
   "outputs": [
    {
     "name": "stdout",
     "output_type": "stream",
     "text": [
      "Enter the number of persons :4\n",
      "max no. of handshakes possible for 4 people are :  6\n"
     ]
    }
   ],
   "source": [
    "n=int(input(\"Enter the number of persons :\"))\n",
    "maxHandShakes = int(n*(n-1)/2)\n",
    "print(\"max no. of handshakes possible for\",n,\"people are : \",maxHandShakes)"
   ]
  },
  {
   "cell_type": "markdown",
   "id": "70096a6c",
   "metadata": {},
   "source": [
    "#Program to print only the duplicate elements"
   ]
  },
  {
   "cell_type": "code",
   "execution_count": 16,
   "id": "57aa27e4",
   "metadata": {},
   "outputs": [
    {
     "name": "stdout",
     "output_type": "stream",
     "text": [
      "Counter({1: 2, 5: 2, 2: 1, 3: 1, 4: 1})\n",
      "2\n",
      "1\n",
      "1\n",
      "2\n",
      "1\n",
      "3\n",
      "1\n",
      "4\n",
      "2\n",
      "5\n"
     ]
    }
   ],
   "source": [
    "from collections import Counter\n",
    "list =[1,1,2,3,4,5,5]\n",
    "emp_list=[]\n",
    "d = Counter(list)\n",
    "print(d)\n",
    "for item in d:\n",
    "    print(d[item])\n",
    "    print(item)\n"
   ]
  },
  {
   "cell_type": "markdown",
   "id": "2a82f48e",
   "metadata": {},
   "source": [
    "<!-- \n",
    "Persistent Coding Questions in 2022 With Solutions:-\n",
    "Persistent Coding Test Question 1\n",
    "Sajith loves numbers and coding. His dad gives a task to write a code to find the nth largest number in an array.\n",
    "\n",
    "Input \n",
    "\n",
    "The inputs have : First the count of integers and the second n value\n",
    "The second line of the input has the list of integers that he needs to do the operations upon.\n",
    "Output\n",
    "\n",
    "You have to print the integer representing the nth largest out of the numbers given by his father\n",
    " \n",
    "\n",
    "Constraints\n",
    "\n",
    "0 < value n <=  count of integers <= 10^6\n",
    "-10^6 <= each integer <= 10^6\n",
    "0 <= i < count of integers\n",
    " \n",
    "\n",
    "Example\n",
    "\n",
    "Input\n",
    "\n",
    "5  3\n",
    "11 -1 – 4 12 -6\n",
    "\n",
    "Output \n",
    "\n",
    "-1\n",
    "\n",
    "Explanation :\n",
    "\n",
    "-1 is 3rd largest\n",
    " -->"
   ]
  },
  {
   "cell_type": "markdown",
   "id": "b4ceb114",
   "metadata": {},
   "source": [
    "# Persistent Coding Questions in 2022 With Solutions:-\n",
    "#Persistent Coding Test Question 1\n",
    "Sajith loves numbers and coding. His dad gives a task to write a code to find the nth largest number in an array.\n",
    "\n",
    "Input \n",
    "\n",
    "The inputs have : First the count of integers and the second n value\n",
    "The second line of the input has the list of integers that he needs to do the operations upon.\n",
    "Output\n",
    "\n",
    "You have to print the integer representing the nth largest out of the numbers given by his father\n",
    " \n",
    "\n",
    "Constraints\n",
    "\n",
    "0 < value n <=  count of integers <= 10^6\n",
    "-10^6 <= each integer <= 10^6\n",
    "0 <= i < count of integers\n",
    " \n",
    "\n",
    "Example\n",
    "\n",
    "Input\n",
    "\n",
    "5  3\n",
    "11 -1 – 4 12 -6\n",
    "\n",
    "Output \n",
    "\n",
    "-1\n",
    "\n",
    "Explanation :\n",
    "\n",
    "-1 is 3rd largest"
   ]
  },
  {
   "cell_type": "code",
   "execution_count": 2,
   "id": "e585270a",
   "metadata": {},
   "outputs": [
    {
     "name": "stdout",
     "output_type": "stream",
     "text": [
      "Enter the size of array :5\n",
      "Enter the Largest Number to be Picked from the list:3\n",
      "Enter  5  numbers horizontally\n",
      "11 -1 -4 12 -6\n",
      "[11, -1, -4, 12, -6]\n",
      "The  3 largest number is  : -1\n"
     ]
    }
   ],
   "source": [
    "size = int(input(\"Enter the size of array :\"))\n",
    "larNo = int(input(\"Enter the Largest Number to be Picked from the list:\"))\n",
    "print(\"Enter \",size,\" numbers horizontally\")\n",
    "lis = [int(num) for num in input().split(\" \",size-1)]\n",
    "print(lis)\n",
    "lis.sort()\n",
    "print(\"The \",larNo,\"largest number is : \" ,lis[-larNo])\n"
   ]
  },
  {
   "cell_type": "markdown",
   "id": "24e60c00",
   "metadata": {},
   "source": [
    "#Persistent Coding Test Question 2\n",
    "Flipkart has been infected with a virus, the virus works this way: Each user that has been infected with the virus is traced by a special algorithm and a hint that the virus gives. The virus leaves a hint number N.\n",
    "\n",
    "Flipkart is able to identify the user ID of the virus by this N number as the user ID works as a series : Each number in the series is the sum of the last three numbers in the series. The first three numbers in the series are 0, 0, 1 always.\n",
    "\n",
    "Write a program to identify the user ID infect based on N value checked from the logs of the system\n",
    "\n",
    "Input\n",
    "\n",
    "The input contains the N value left by the virus and found by engineers in the logs of the system\n",
    "Output\n",
    "\n",
    "Print the userID of the infect user.\n",
    " \n",
    "\n",
    "Example\n",
    "\n",
    "Input\n",
    "\n",
    "11\n",
    "\n",
    "Output \n",
    "\n",
    "81\n",
    "\n",
    " \n",
    "\n",
    "Example\n",
    "\n",
    "Input\n",
    "\n",
    "16\n",
    "\n",
    "Output \n",
    "\n",
    "1705"
   ]
  },
  {
   "cell_type": "code",
   "execution_count": 2,
   "id": "f450590b",
   "metadata": {},
   "outputs": [
    {
     "name": "stdout",
     "output_type": "stream",
     "text": [
      "Enter the Number :40\n",
      "3831006429\n"
     ]
    }
   ],
   "source": [
    "N = int(input(\"Enter the Number :\"))\n",
    "n1=0\n",
    "n2=0\n",
    "n3=1\n",
    "list=[]\n",
    "for i in range(N-3):\n",
    "    n4=n3+n2+n1\n",
    "    n1,n2,n3=n2,n3,n4\n",
    "    \n",
    "    list=[n4]\n",
    "print(list[0])"
   ]
  },
  {
   "cell_type": "markdown",
   "id": "aaa94c6d",
   "metadata": {},
   "source": [
    "#List Comprehension"
   ]
  },
  {
   "cell_type": "code",
   "execution_count": 5,
   "id": "2cd326f4",
   "metadata": {},
   "outputs": [
    {
     "name": "stdout",
     "output_type": "stream",
     "text": [
      "[0, 2, 4, 6, 8]\n"
     ]
    }
   ],
   "source": [
    "list = [x for x in range(10) if x%2==0]\n",
    "print(list)\n",
    "\n"
   ]
  },
  {
   "cell_type": "code",
   "execution_count": 2,
   "id": "b108e27d",
   "metadata": {},
   "outputs": [
    {
     "name": "stdout",
     "output_type": "stream",
     "text": [
      "Enter the elements of row :\n",
      "[[0, 0], [0, 1], [0, 2], [1, 0], [1, 1], [1, 2], [2, 0], [2, 1], [2, 2]]\n"
     ]
    }
   ],
   "source": [
    "print(\"Enter the elements of row :\")\n",
    "list = [[i,j] for i in range(3) for j in range(3) ]\n",
    "print(list)"
   ]
  },
  {
   "cell_type": "code",
   "execution_count": 5,
   "id": "a4b47b70",
   "metadata": {},
   "outputs": [
    {
     "ename": "SyntaxError",
     "evalue": "invalid syntax (Temp/ipykernel_32896/1923960478.py, line 3)",
     "output_type": "error",
     "traceback": [
      "\u001b[1;36m  File \u001b[1;32m\"C:\\Users\\Vishwa\\AppData\\Local\\Temp/ipykernel_32896/1923960478.py\"\u001b[1;36m, line \u001b[1;32m3\u001b[0m\n\u001b[1;33m    print(arr)\u001b[0m\n\u001b[1;37m    ^\u001b[0m\n\u001b[1;31mSyntaxError\u001b[0m\u001b[1;31m:\u001b[0m invalid syntax\n"
     ]
    }
   ],
   "source": [
    "n = int(input())\n",
    "arr = (map(int, input().split())\n",
    "print(arr)"
   ]
  },
  {
   "cell_type": "markdown",
   "id": "c1b3ab37",
   "metadata": {},
   "source": [
    "#program to find second largest element"
   ]
  },
  {
   "cell_type": "code",
   "execution_count": 5,
   "id": "20b29986",
   "metadata": {},
   "outputs": [
    {
     "name": "stdout",
     "output_type": "stream",
     "text": [
      "4\n"
     ]
    }
   ],
   "source": [
    "list1=[]\n",
    "list2=[5,4,1,1,2,3,4,5,5]\n",
    "list2.sort()\n",
    "for i in list2:\n",
    "    if i not in list1:\n",
    "        if i in list2:\n",
    "            list1.append(i)\n",
    "print(list1[-2])\n",
    "\n",
    "\n",
    "\n",
    "\n",
    "\n",
    "\n"
   ]
  },
  {
   "cell_type": "code",
   "execution_count": 1,
   "id": "e2749947",
   "metadata": {},
   "outputs": [
    {
     "name": "stdout",
     "output_type": "stream",
     "text": [
      "['Rameez', 'chetan', 'rashid', 'sumer', 'akash', 'tushar', 'Vinayak', 'Anvita', 'smita', 'pranav', 'rony', 'bhaskar', 'rohit']\n",
      "['Anvita', 'pranav']\n"
     ]
    }
   ],
   "source": [
    "friends =['Rameez','chetan','rashid','sumer','akash','tushar','Vinayak','Anvita','smita','pranav','rony','bhaskar','rohit']\n",
    "addOn = [x for x in friends if 'v' in x] \n",
    "print(friends)\n",
    "print(addOn)"
   ]
  },
  {
   "cell_type": "markdown",
   "id": "7955b8ac",
   "metadata": {},
   "source": [
    "# https://www.hackerrank.com/challenges/list-comprehensions/problem?isFullScreen=true"
   ]
  },
  {
   "cell_type": "code",
   "execution_count": 2,
   "id": "dca2a58a",
   "metadata": {},
   "outputs": [
    {
     "name": "stdout",
     "output_type": "stream",
     "text": [
      "1\n",
      "1\n",
      "2\n",
      "4\n",
      "[[0, 0, 0], [0, 0, 1], [0, 0, 2], [0, 1, 0], [0, 1, 1], [0, 1, 2], [1, 0, 0], [1, 0, 1], [1, 0, 2], [1, 1, 0], [1, 1, 1]]\n"
     ]
    }
   ],
   "source": [
    "    x = int(input())\n",
    "    y = int(input())\n",
    "    z = int(input())\n",
    "    n = int(input())\n",
    "    list=[[i,j,k] for i in range(x+1) for j in range(y+1) for k in range(z+1) if i+j+k!=n]\n",
    "    print(list)\n"
   ]
  },
  {
   "cell_type": "markdown",
   "id": "e8c19bd7",
   "metadata": {},
   "source": [
    "#Remove dupicates from array"
   ]
  },
  {
   "cell_type": "code",
   "execution_count": 1,
   "id": "341bc0b8",
   "metadata": {},
   "outputs": [
    {
     "name": "stdout",
     "output_type": "stream",
     "text": [
      "10 20 30 40 50 "
     ]
    }
   ],
   "source": [
    "# This function returns new size of modified array.\n",
    "def removeDuplicates(arr, n):\n",
    "\n",
    "    # Return, if array is empty or contains a single element\n",
    "    if n == 0 or n == 1:\n",
    "        return n\n",
    "\n",
    "    # Start traversing elements\n",
    "    j = 0;\n",
    "    for i in range(0, n-1):\n",
    "\n",
    "        # If current element is not equal to next element then store that current element\n",
    "        if arr[i] != arr[i+1]:\n",
    "            arr[j] = arr[i]\n",
    "            j += 1\n",
    "\n",
    "    arr[j] = arr[n-1]\n",
    "    j += 1\n",
    "\n",
    "    return j\n",
    "\n",
    "# Driver code\n",
    "arr = [10, 20, 20, 30, 40, 40, 40, 50, 50]\n",
    "n = len(arr)\n",
    "\n",
    "n = removeDuplicates(arr, n)\n",
    "\n",
    "# Print updated array\n",
    "for i in range(n):\n",
    "    print (\"%d\"%(arr[i]), end = \" \")"
   ]
  },
  {
   "cell_type": "markdown",
   "id": "47029a6e",
   "metadata": {},
   "source": [
    "#Program to convert decimal to binary without using function (bin) or anyother function"
   ]
  },
  {
   "cell_type": "code",
   "execution_count": 11,
   "id": "52bfcbb4",
   "metadata": {},
   "outputs": [
    {
     "name": "stdout",
     "output_type": "stream",
     "text": [
      "01000"
     ]
    }
   ],
   "source": [
    "def DecimalToBinary(num):\n",
    "    if num >= 1:\n",
    "        DecimalToBinary(num // 2)\n",
    "    print(num % 2, end = '')\n",
    "\n",
    "    \n",
    "dec_val = 8\n",
    "DecimalToBinary(dec_val)"
   ]
  },
  {
   "cell_type": "markdown",
   "id": "8b4aef97",
   "metadata": {},
   "source": [
    "#Persistent Coding Question 3\n",
    "Given an unsorted array of n elements, find if the element k is present in the array or not. Complete the findNumber function in the editor below.\n",
    "\n",
    "It has 2 parameters:\n",
    "\n",
    "An array of integers,arr,denoting the elements in the array.\n",
    "An integer,k,denoting the element to be searched in the array.\n",
    "The function must return a string “YES” or “NO” denoting if the element is present in the array or not.\n",
    "\n",
    "Input Format\n",
    "\n",
    "The first line contains an integers n,denoting the number of elements in the array arr.\n",
    "Each line i of the n subsequent lines (where 0<=i<=n) contains an integer describing arri.\n",
    "The next line contains an integer,k,the elements that needs to be searched.\n",
    "Constraints\n",
    "\n",
    "1 <= n <= 105\n",
    "1 <= arr[i]<= 109\n",
    "Output Format\n",
    "\n",
    "The function must return a string “YES” or “NO” denoting if the element is present in the array or not.This is printed to stdout by locked stub code in the editor.\n",
    "\n",
    "Sample Input 0\n",
    "\n",
    "5\n",
    "1\n",
    "2\n",
    "3\n",
    "4\n",
    "5\n",
    "1\n",
    "\n",
    "Sample Output 0\n",
    "\n",
    "YES\n",
    "\n",
    "Explanation 0\n",
    "\n",
    "Given the array =[1,2,3,4,5],we want to find the element 1 if it is present or not. We can find the element 1 at index = 0.Therefore we print “YES”.\n",
    "\n",
    "Sample Input 1\n",
    "\n",
    "3\n",
    "2\n",
    "3\n",
    "1\n",
    "5\n",
    "\n",
    "Sample Output 1\n",
    "\n",
    "NO"
   ]
  },
  {
   "cell_type": "code",
   "execution_count": 1,
   "id": "cbd5b55d",
   "metadata": {},
   "outputs": [
    {
     "name": "stdout",
     "output_type": "stream",
     "text": [
      "5\n",
      "6\n",
      "8\n",
      "8\n",
      "8\n",
      "8\n",
      "7\n",
      "NO\n"
     ]
    }
   ],
   "source": [
    "n = int(input())\n",
    "arr = []\n",
    "for i in range(n):\n",
    "    name = int(input())\n",
    "    arr.append(name)\n",
    "k = int(input())\n",
    "if k in arr:\n",
    "    print('YES')\n",
    "else:\n",
    "    print('NO')"
   ]
  },
  {
   "cell_type": "code",
   "execution_count": 11,
   "id": "ceaf2333",
   "metadata": {},
   "outputs": [
    {
     "ename": "TypeError",
     "evalue": "unhashable type: 'list'",
     "output_type": "error",
     "traceback": [
      "\u001b[1;31m---------------------------------------------------------------------------\u001b[0m",
      "\u001b[1;31mTypeError\u001b[0m                                 Traceback (most recent call last)",
      "\u001b[1;32m~\\AppData\\Local\\Temp/ipykernel_18376/343936214.py\u001b[0m in \u001b[0;36m<module>\u001b[1;34m\u001b[0m\n\u001b[0;32m      1\u001b[0m \u001b[0ml4\u001b[0m\u001b[1;33m=\u001b[0m\u001b[1;33m[\u001b[0m\u001b[1;33m[\u001b[0m\u001b[1;34m\"vishwa\"\u001b[0m\u001b[1;33m,\u001b[0m\u001b[1;34m\"aman\"\u001b[0m\u001b[1;33m]\u001b[0m\u001b[1;33m,\u001b[0m\u001b[1;33m[\u001b[0m\u001b[1;34m\"arav\"\u001b[0m\u001b[1;33m,\u001b[0m\u001b[1;34m\"aman\"\u001b[0m\u001b[1;33m]\u001b[0m\u001b[1;33m,\u001b[0m\u001b[1;33m[\u001b[0m\u001b[1;34m\"bryan\"\u001b[0m\u001b[1;33m,\u001b[0m\u001b[1;34m\"harsh\"\u001b[0m\u001b[1;33m]\u001b[0m\u001b[1;33m]\u001b[0m\u001b[1;33m\u001b[0m\u001b[1;33m\u001b[0m\u001b[0m\n\u001b[1;32m----> 2\u001b[1;33m \u001b[0ml4\u001b[0m \u001b[1;33m=\u001b[0m \u001b[0mlist\u001b[0m\u001b[1;33m(\u001b[0m\u001b[0mset\u001b[0m\u001b[1;33m(\u001b[0m\u001b[0ml4\u001b[0m\u001b[1;33m)\u001b[0m\u001b[1;33m)\u001b[0m\u001b[1;33m\u001b[0m\u001b[1;33m\u001b[0m\u001b[0m\n\u001b[0m\u001b[0;32m      3\u001b[0m \u001b[0mprint\u001b[0m\u001b[1;33m(\u001b[0m\u001b[0ml4\u001b[0m\u001b[1;33m)\u001b[0m\u001b[1;33m\u001b[0m\u001b[1;33m\u001b[0m\u001b[0m\n",
      "\u001b[1;31mTypeError\u001b[0m: unhashable type: 'list'"
     ]
    }
   ],
   "source": [
    "l1=[\"vishwa\",\"aman\"]\n",
    "l2=[\"arav\",\"aman\"]\n",
    "l3=[\"bryan\",\"harsh\"]\n",
    "l4=l1+l2+l3\n",
    "print(l4)\n",
    "l4 = list(set(l4))\n",
    "print(l4)"
   ]
  },
  {
   "cell_type": "code",
   "execution_count": 2,
   "id": "c235abbf",
   "metadata": {},
   "outputs": [
    {
     "name": "stdout",
     "output_type": "stream",
     "text": [
      "2 2\n",
      "v d h\n",
      "v j k\n",
      "5\n"
     ]
    }
   ],
   "source": [
    "n,k=map(int,input().split())\n",
    "exmpmatrix=[]\n",
    "for i in range(n):\n",
    "    sr=list(map(str,input().split()))\n",
    "    exmpmatrix.append(sr)\n",
    "#print(exmpmatrix)\n",
    "res = sum(exmpmatrix,[])\n",
    "res = list(set(res))\n",
    "print(len(res))\n"
   ]
  },
  {
   "cell_type": "code",
   "execution_count": 6,
   "id": "862b474c",
   "metadata": {},
   "outputs": [
    {
     "name": "stdout",
     "output_type": "stream",
     "text": [
      "{('a', 1), ('c', 3), ('b', 2), ('c', 4)}\n"
     ]
    }
   ],
   "source": [
    "xx = [['a',1],['b',2],['c',3],['c',4]]\n",
    "xx = set(tuple(element) for element in xx)\n",
    "print(xx)"
   ]
  },
  {
   "cell_type": "code",
   "execution_count": 10,
   "id": "52857502",
   "metadata": {},
   "outputs": [
    {
     "name": "stdout",
     "output_type": "stream",
     "text": [
      "[1, 2, 3, 4, 5, 6, 7, 8, 9]\n"
     ]
    }
   ],
   "source": [
    "list_of_lists = [[1,2,3], [4,5,6], [7,8,9]]\n",
    "fl=sum(list_of_lists, []) # [1,2,3,4,5,6,7,8,9]\n",
    "print(str(fl))"
   ]
  },
  {
   "cell_type": "code",
   "execution_count": 6,
   "id": "fb838d48",
   "metadata": {},
   "outputs": [],
   "source": [
    "#2D matrix"
   ]
  },
  {
   "cell_type": "code",
   "execution_count": 7,
   "id": "35143c7a",
   "metadata": {},
   "outputs": [
    {
     "name": "stdout",
     "output_type": "stream",
     "text": [
      "3 5\n",
      "1 2 3 4 5\n",
      "11 22 33 44 55\n",
      "111 222 333 444 555\n",
      "[[1, 2, 3, 4, 5], [11, 22, 33, 44, 55], [111, 222, 333, 444, 555]]\n"
     ]
    }
   ],
   "source": [
    "d2=[]\n",
    "r,c=map(int,input().split())\n",
    "for i in range(r):\n",
    "    d2.append(list(map(int,input().split())))\n",
    "print(d2)\n"
   ]
  },
  {
   "cell_type": "code",
   "execution_count": 7,
   "id": "9317f112",
   "metadata": {},
   "outputs": [
    {
     "name": "stdout",
     "output_type": "stream",
     "text": [
      "enter:100\n",
      "0 1 1 2 3 5 8 13 21 34 55 89 "
     ]
    }
   ],
   "source": [
    "def cal(limit):\n",
    "    a,b=0,1\n",
    "    while a<limit:\n",
    "        yield a\n",
    "        a,b=b,a+b\n",
    "limit=int(input(\"enter:\"))\n",
    "fibonacci = cal(limit)\n",
    "for i in fibonacci:\n",
    "    print(i,end=\" \")"
   ]
  },
  {
   "cell_type": "code",
   "execution_count": 10,
   "id": "317817db",
   "metadata": {},
   "outputs": [
    {
     "name": "stdout",
     "output_type": "stream",
     "text": [
      "4\n",
      "0100"
     ]
    }
   ],
   "source": [
    "n= int(input())\n",
    "def dtob(n):\n",
    "        if n>=1:\n",
    "        dtob(n//2)\n",
    "    print(n%2 ,end=\"\")\n",
    "dtob(n)\n"
   ]
  },
  {
   "cell_type": "code",
   "execution_count": 11,
   "id": "40d6a34d",
   "metadata": {},
   "outputs": [
    {
     "name": "stdout",
     "output_type": "stream",
     "text": [
      "6\n",
      "6\n",
      "0\n",
      "5\n",
      "0\n",
      "1\n",
      "9\n",
      "Given list: [6, 0, 5, 0, 1, 9]\n",
      "6 5 1 9 0 0 "
     ]
    }
   ],
   "source": [
    "#TCS QUESTION\n",
    "\n",
    "N=int(input())\n",
    "list=[]\n",
    "for i in range(N):\n",
    "    list.append(int(input()))\n",
    "print(\"Given list:\" ,str(list))\n",
    "n=len(list)\n",
    "j=0\n",
    "for i in range(n):\n",
    "    if list[i] != 0:\n",
    "        list[j],list[i] = list[i], list[j]  \n",
    "        j += 1\n",
    "for i in range(n):\n",
    "    print(list[i],end=\" \")\n",
    "\n",
    "    "
   ]
  },
  {
   "cell_type": "code",
   "execution_count": 18,
   "id": "1f243403",
   "metadata": {},
   "outputs": [
    {
     "name": "stdout",
     "output_type": "stream",
     "text": [
      "[1, 2, 3, 6, 0, 0]\n"
     ]
    }
   ],
   "source": [
    "A=[1,2,0,3,0,6]\n",
    "n=len(list)\n",
    "j=0\n",
    "for i in range(6):\n",
    "    if list[i] != 0:\n",
    "        list[j], list[i] = list[i], list[j]  # Partitioning the array\n",
    "        j += 1\n",
    "print(\"updated list :\",list)"
   ]
  },
  {
   "cell_type": "code",
   "execution_count": 6,
   "id": "8db18c09",
   "metadata": {},
   "outputs": [
    {
     "name": "stdout",
     "output_type": "stream",
     "text": [
      "True\n"
     ]
    }
   ],
   "source": [
    "#explaining friend\n",
    "def ispa(s):\n",
    "    return s==s[::-1]\n",
    "s=\"wow\"\n",
    "res=ispa(s)\n",
    "print(res)"
   ]
  },
  {
   "cell_type": "code",
   "execution_count": 15,
   "id": "8731c8a0",
   "metadata": {},
   "outputs": [
    {
     "name": "stdout",
     "output_type": "stream",
     "text": [
      "010101\n",
      "21\n"
     ]
    }
   ],
   "source": [
    "#BINARY TO DECIMAL\n",
    "n=input()\n",
    "res=int(n,2)\n",
    "print(res)"
   ]
  },
  {
   "cell_type": "code",
   "execution_count": 29,
   "id": "da422ca0",
   "metadata": {},
   "outputs": [
    {
     "name": "stdout",
     "output_type": "stream",
     "text": [
      "Enter decimal value :3\n"
     ]
    },
    {
     "ename": "TypeError",
     "evalue": "'str' object is not callable",
     "output_type": "error",
     "traceback": [
      "\u001b[1;31m---------------------------------------------------------------------------\u001b[0m",
      "\u001b[1;31mTypeError\u001b[0m                                 Traceback (most recent call last)",
      "\u001b[1;32m~\\AppData\\Local\\Temp/ipykernel_24256/1579509175.py\u001b[0m in \u001b[0;36m<module>\u001b[1;34m\u001b[0m\n\u001b[0;32m      6\u001b[0m     \u001b[1;32mreturn\u001b[0m \u001b[0mbin\u001b[0m\u001b[1;33m(\u001b[0m\u001b[0mn\u001b[0m\u001b[1;33m)\u001b[0m\u001b[1;33m.\u001b[0m\u001b[0mreplace\u001b[0m\u001b[1;33m(\u001b[0m\u001b[1;34m\"0b\"\u001b[0m\u001b[1;33m,\u001b[0m\u001b[1;34m\"\"\u001b[0m\u001b[1;33m)\u001b[0m\u001b[1;33m\u001b[0m\u001b[1;33m\u001b[0m\u001b[0m\n\u001b[0;32m      7\u001b[0m \u001b[0mres\u001b[0m\u001b[1;33m=\u001b[0m \u001b[0mdeciToBin\u001b[0m\u001b[1;33m(\u001b[0m\u001b[0mn\u001b[0m\u001b[1;33m)\u001b[0m\u001b[1;33m\u001b[0m\u001b[1;33m\u001b[0m\u001b[0m\n\u001b[1;32m----> 8\u001b[1;33m \u001b[0mres\u001b[0m\u001b[1;33m=\u001b[0m\u001b[0mlist\u001b[0m\u001b[1;33m(\u001b[0m\u001b[0mmap\u001b[0m\u001b[1;33m(\u001b[0m\u001b[0mint\u001b[0m\u001b[1;33m,\u001b[0m \u001b[0mstr\u001b[0m\u001b[1;33m(\u001b[0m\u001b[0mres\u001b[0m\u001b[1;33m)\u001b[0m\u001b[1;33m)\u001b[0m \u001b[1;33m)\u001b[0m   \u001b[1;31m#converted str to list ,Reason:Can toggle list easily.\u001b[0m\u001b[1;33m\u001b[0m\u001b[1;33m\u001b[0m\u001b[0m\n\u001b[0m\u001b[0;32m      9\u001b[0m \u001b[0mres\u001b[0m\u001b[1;33m=\u001b[0m\u001b[1;33m[\u001b[0m\u001b[0mi\u001b[0m\u001b[1;33m^\u001b[0m\u001b[1;36m1\u001b[0m \u001b[1;32mfor\u001b[0m \u001b[0mi\u001b[0m \u001b[1;32min\u001b[0m \u001b[0mres\u001b[0m\u001b[1;33m]\u001b[0m          \u001b[1;31m#XOR opearation Ex:  0^0=0 , 1^1=0 , 1^0=1 , 0^1=1\u001b[0m\u001b[1;33m\u001b[0m\u001b[1;33m\u001b[0m\u001b[0m\n\u001b[0;32m     10\u001b[0m \u001b[0mr\u001b[0m\u001b[1;33m=\u001b[0m\u001b[1;34m' '\u001b[0m\u001b[1;33m.\u001b[0m\u001b[0mjoin\u001b[0m\u001b[1;33m(\u001b[0m\u001b[0mmap\u001b[0m\u001b[1;33m(\u001b[0m\u001b[0mstr\u001b[0m\u001b[1;33m,\u001b[0m \u001b[0mres\u001b[0m\u001b[1;33m)\u001b[0m\u001b[1;33m)\u001b[0m\u001b[1;33m\u001b[0m\u001b[1;33m\u001b[0m\u001b[0m\n",
      "\u001b[1;31mTypeError\u001b[0m: 'str' object is not callable"
     ]
    }
   ],
   "source": [
    "#TCS QUESTION\n",
    "\n",
    "n=int(input(\"Enter decimal value :\"))\n",
    "\n",
    "def deciToBin(n):\n",
    "    return bin(n).replace(\"0b\",\"\")\n",
    "res= deciToBin(n)\n",
    "res=list(map(int, str(res)) )   #converted str to list ,Reason:Can toggle list easily.\n",
    "res=[i^1 for i in res]          #XOR opearation Ex:  0^0=0 , 1^1=0 , 1^0=1 , 0^1=1  \n",
    "\n",
    "        \n",
    "   \n"
   ]
  },
  {
   "cell_type": "markdown",
   "id": "3befaf2a",
   "metadata": {},
   "source": [
    "#persistent question asked in martian internship test date:17 june 2022"
   ]
  },
  {
   "cell_type": "code",
   "execution_count": 6,
   "id": "f83815d0",
   "metadata": {},
   "outputs": [
    {
     "name": "stdout",
     "output_type": "stream",
     "text": [
      "3\n",
      "11122334\n",
      "123244444\n",
      "552211\n",
      "[('1', 3), ('2', 2), ('3', 2), ('4', 1)]\n",
      "1\n",
      "[('1', 1), ('2', 2), ('3', 1), ('4', 5)]\n",
      "4\n",
      "[('1', 2), ('2', 2), ('5', 2)]\n",
      "1\n"
     ]
    }
   ],
   "source": [
    "n=int(input())\n",
    "a = [input() for i in range(n)]\n",
    "\n",
    "#find frequency of each character\n",
    "for i in a:  \n",
    "    d1=dict()\n",
    "    for c in i:\n",
    "        if c in d1:\n",
    "            d1[c]=d1[c]+1 \n",
    "        else:\n",
    "            d1[c]=1 \n",
    "     #sort on basis of items in ascending order       \n",
    "    d2 = sorted(d1.items())\n",
    "    d3 = (dict(d2))\n",
    "    \n",
    "    max1 = max(d3, key= lambda x: d3[x])\n",
    "    print(max1)"
   ]
  },
  {
   "cell_type": "code",
   "execution_count": 26,
   "id": "d57e93bf",
   "metadata": {},
   "outputs": [
    {
     "name": "stdout",
     "output_type": "stream",
     "text": [
      "Enter binary digits : 5\n"
     ]
    },
    {
     "ename": "TypeError",
     "evalue": "'str' object is not callable",
     "output_type": "error",
     "traceback": [
      "\u001b[1;31m---------------------------------------------------------------------------\u001b[0m",
      "\u001b[1;31mTypeError\u001b[0m                                 Traceback (most recent call last)",
      "\u001b[1;32m~\\AppData\\Local\\Temp/ipykernel_24256/1760378447.py\u001b[0m in \u001b[0;36m<module>\u001b[1;34m\u001b[0m\n\u001b[0;32m      1\u001b[0m \u001b[0mres\u001b[0m\u001b[1;33m=\u001b[0m\u001b[0minput\u001b[0m\u001b[1;33m(\u001b[0m\u001b[1;34m\"Enter binary digits : \"\u001b[0m\u001b[1;33m)\u001b[0m\u001b[1;33m\u001b[0m\u001b[1;33m\u001b[0m\u001b[0m\n\u001b[1;32m----> 2\u001b[1;33m \u001b[0mres\u001b[0m\u001b[1;33m=\u001b[0m\u001b[0mlist\u001b[0m\u001b[1;33m(\u001b[0m\u001b[0mmap\u001b[0m\u001b[1;33m(\u001b[0m\u001b[0mint\u001b[0m\u001b[1;33m,\u001b[0m \u001b[0mstr\u001b[0m\u001b[1;33m(\u001b[0m\u001b[0mres\u001b[0m\u001b[1;33m)\u001b[0m\u001b[1;33m)\u001b[0m \u001b[1;33m)\u001b[0m   \u001b[1;31m#converted str to list ,Reason:Can toggle list easily.\u001b[0m\u001b[1;33m\u001b[0m\u001b[1;33m\u001b[0m\u001b[0m\n\u001b[0m\u001b[0;32m      3\u001b[0m \u001b[0mres\u001b[0m\u001b[1;33m=\u001b[0m\u001b[1;33m[\u001b[0m\u001b[0mi\u001b[0m\u001b[1;33m^\u001b[0m\u001b[1;36m1\u001b[0m \u001b[1;32mfor\u001b[0m \u001b[0mi\u001b[0m \u001b[1;32min\u001b[0m \u001b[0mres\u001b[0m\u001b[1;33m]\u001b[0m   \u001b[1;31m#XOR opearation Ex:  0^0=0 , 1^1=0 , 1^0=1 , 0^1=1\u001b[0m\u001b[1;33m\u001b[0m\u001b[1;33m\u001b[0m\u001b[0m\n\u001b[0;32m      4\u001b[0m \u001b[0ms\u001b[0m\u001b[1;33m=\u001b[0m\u001b[1;34m\" \"\u001b[0m\u001b[1;33m\u001b[0m\u001b[1;33m\u001b[0m\u001b[0m\n\u001b[0;32m      5\u001b[0m \u001b[1;32mfor\u001b[0m \u001b[0mi\u001b[0m \u001b[1;32min\u001b[0m \u001b[0mres\u001b[0m\u001b[1;33m:\u001b[0m\u001b[1;33m\u001b[0m\u001b[1;33m\u001b[0m\u001b[0m\n",
      "\u001b[1;31mTypeError\u001b[0m: 'str' object is not callable"
     ]
    }
   ],
   "source": [
    "res=input(\"Enter binary digits : \")\n",
    "res=list(map(int, str(res)) )   #converted str to list ,Reason:Can toggle list easily.\n",
    "res=[i^1 for i in res]          #XOR opearation Ex:  0^0=0 , 1^1=0 , 1^0=1 , 0^1=1  \n",
    "def result(res):\n",
    "    for i in res:\n",
    "        print(i,end=\" \")\n",
    "        return"
   ]
  },
  {
   "cell_type": "code",
   "execution_count": 9,
   "id": "ea4e43b2",
   "metadata": {},
   "outputs": [
    {
     "name": "stdout",
     "output_type": "stream",
     "text": [
      "{'cse': 45, 'nse': 22, 'sse': 11}\n"
     ]
    }
   ],
   "source": [
    "d1 = {'cse':21,'nse':90,'cse':45,'nse':22,'sse':11}\n",
    "d2 = sorted(d1.items())\n",
    "print(dict(d2))"
   ]
  },
  {
   "cell_type": "code",
   "execution_count": 5,
   "id": "ec55390f",
   "metadata": {},
   "outputs": [
    {
     "name": "stdout",
     "output_type": "stream",
     "text": [
      "3\n",
      "111123\n",
      "1213\n",
      "1232\n",
      "['111123', '1213', '1232']\n"
     ]
    }
   ],
   "source": [
    "n=int(input())\n",
    "a = [input() for i in range(n)]\n",
    "print(a)"
   ]
  },
  {
   "cell_type": "markdown",
   "id": "2735ee75",
   "metadata": {},
   "source": [
    "#prime numbers"
   ]
  },
  {
   "cell_type": "code",
   "execution_count": 7,
   "id": "d3b8655c",
   "metadata": {},
   "outputs": [
    {
     "name": "stdout",
     "output_type": "stream",
     "text": [
      "Enter a Prime Number:3\n",
      "The sum cant be made with prime number:3\n"
     ]
    }
   ],
   "source": [
    "num = int(input(\"Enter a Prime Number:\"))\n",
    "arr = []\n",
    "\n",
    "for i in range(2,num):\n",
    "    flag = 0\n",
    "    for j in range(2,i):\n",
    "        if i % j == 0:\n",
    "            flag = 1 \n",
    "    if flag == 0:\n",
    "        arr.append(i)\n",
    "\n",
    "flag = 0\n",
    "for i in range(len(arr)):\n",
    "        for j in range(i+1, len(arr)):\n",
    "            if arr[i] + arr[j] == num:\n",
    "                print(str(arr[i])+ \" and \" +str(arr[j])+ \" are the sum of \" +str(num))\n",
    "                flag=1\n",
    "                break\n",
    "if flag == 0:\n",
    "    print(\"The sum cant be made with prime number:\" +str(num))\n",
    "\n",
    "                \n",
    "        \n"
   ]
  },
  {
   "cell_type": "markdown",
   "id": "8bf2c89f",
   "metadata": {},
   "source": [
    "#Camelcase program , ECOLAB question\n",
    " \n",
    " #INPUT:\n",
    " 'hiHelloHowAreYou'\n",
    " \n",
    " #OUTPUT:\n",
    " HI\n",
    " hELLO\n",
    " hOW\n",
    " aRE\n",
    " yOU"
   ]
  },
  {
   "cell_type": "code",
   "execution_count": 95,
   "id": "1087e9bf",
   "metadata": {},
   "outputs": [
    {
     "name": "stdout",
     "output_type": "stream",
     "text": [
      "saveChangesInTheEditor\n",
      "save Changes In The Editor\n",
      "\n",
      "SAVE\n",
      "cHANGES\n",
      "iN\n",
      "tHE\n",
      "eDITOR\n"
     ]
    }
   ],
   "source": [
    "s = input()\n",
    "result = s[0].upper() + s[1:]\n",
    "#print(result)\n",
    "\n",
    "import re\n",
    "s=re.findall('[A-Z][a-z]*', result)\n",
    "listToStr = ' '.join(map(str, s)) \n",
    "listToStr = listToStr[0].lower() + listToStr[1:]\n",
    "print(listToStr)\n",
    "s1=listToStr.swapcase()\n",
    "s1=s1.split()\n",
    "print()\n",
    "for i in s1:\n",
    "    print(i)\n",
    "\n"
   ]
  },
  {
   "cell_type": "code",
   "execution_count": 88,
   "id": "2c473a24",
   "metadata": {},
   "outputs": [
    {
     "name": "stdout",
     "output_type": "stream",
     "text": [
      "saveChangesInTheEditor\n",
      "SAVE\n",
      " cHANGES\n",
      " iN\n",
      " tHE\n",
      " eDITOR"
     ]
    }
   ],
   "source": [
    "for i in range(len(input())):\n",
    "    print(s[i].upper(),end=\"\")  if s[i].islower() else print(\"\\n\",s[i].lower(),end=\"\")"
   ]
  },
  {
   "cell_type": "code",
   "execution_count": 2,
   "id": "53c91d9b",
   "metadata": {},
   "outputs": [
    {
     "name": "stdout",
     "output_type": "stream",
     "text": [
      "saveChangesInTheEditor\n",
      "SAVE\n",
      " cHANGES\n",
      " iN\n",
      " tHE\n",
      " eDITOR"
     ]
    }
   ],
   "source": [
    "s = input()\n",
    "s=s.swapcase()\n",
    "for i in range(len(s)):\n",
    "    print(s[i] ,end=\"\")  if s[i].isupper() else print(\"\\n\",s[i],end=\"\")"
   ]
  },
  {
   "cell_type": "code",
   "execution_count": null,
   "id": "723e2b66",
   "metadata": {},
   "outputs": [],
   "source": [
    "b=int(input())\n",
    "no_J,no_T=list(map(int,input().split()))\n",
    "list1=[]\n",
    "list2=[]\n",
    "for i in range(no_J):\n",
    "    list1.append(int(input()))\n",
    "for i in range(no_T):\n",
    "    list2.append(int(input()))\n",
    "print(b)\n",
    "print(list1)\n",
    "print(list2)\n",
    "\n",
    "    "
   ]
  },
  {
   "cell_type": "code",
   "execution_count": null,
   "id": "828ce8ec",
   "metadata": {},
   "outputs": [],
   "source": [
    "a,b = raw_input().split()"
   ]
  },
  {
   "cell_type": "code",
   "execution_count": 1,
   "id": "ce50442f",
   "metadata": {},
   "outputs": [
    {
     "name": "stdout",
     "output_type": "stream",
     "text": [
      "3\n",
      "1 2 3\n",
      "<map object at 0x0000022C38A514F0>\n"
     ]
    }
   ],
   "source": [
    "def alternateSort(arr, n):\n",
    " \n",
    "    # Sorting the array\n",
    "    arr.sort()\n",
    " \n",
    "    # Printing the last element of array\n",
    "    # first and then first element and then\n",
    "    # second last element and then second\n",
    "    # element and so on.\n",
    "    i = 0\n",
    "    j = n-1\n",
    "     \n",
    "    while (i < j):\n",
    "     \n",
    "        print(arr[j], end =\" \")\n",
    "        j-= 1\n",
    "        print(arr[i], end =\" \")\n",
    "        i+= 1\n",
    " \n",
    "    # If the total element in array is odd\n",
    "    # then print the last middle element.\n",
    "    if (n % 2 != 0):\n",
    "        print(arr[i])\n",
    " \n",
    " \n",
    "# Driver code\n",
    "arr = []\n",
    "l=int(input())\n",
    "for i in range(1):\n",
    "    arr.append((map(int,input().split())))\n",
    "n=len(arr) \n",
    "alternateSort(arr, n)\n",
    " \n",
    "# This code is contributed by\n",
    "# Smitha Dinesh Semwal"
   ]
  },
  {
   "cell_type": "code",
   "execution_count": 7,
   "id": "bb6d175e",
   "metadata": {},
   "outputs": [
    {
     "name": "stdout",
     "output_type": "stream",
     "text": [
      "6 7 9 0\n",
      "[6, 7, 9, 0]\n"
     ]
    }
   ],
   "source": [
    "lis = [int(num) for num in input().split()]\n",
    "print(lis)"
   ]
  },
  {
   "cell_type": "code",
   "execution_count": 6,
   "id": "4a017364",
   "metadata": {},
   "outputs": [
    {
     "ename": "SyntaxError",
     "evalue": "invalid syntax (Temp/ipykernel_908/544444105.py, line 4)",
     "output_type": "error",
     "traceback": [
      "\u001b[1;36m  File \u001b[1;32m\"C:\\Users\\Vishwa\\AppData\\Local\\Temp/ipykernel_908/544444105.py\"\u001b[1;36m, line \u001b[1;32m4\u001b[0m\n\u001b[1;33m    print(arr)\u001b[0m\n\u001b[1;37m    ^\u001b[0m\n\u001b[1;31mSyntaxError\u001b[0m\u001b[1;31m:\u001b[0m invalid syntax\n"
     ]
    }
   ],
   "source": [
    "arr=[]\n",
    "for i in range(1):\n",
    "    arr.append(input().split())\n",
    "print(arr)\n",
    "arr_1D = sum(arr,[])\n",
    "print(arr_1D)"
   ]
  },
  {
   "cell_type": "code",
   "execution_count": 9,
   "id": "46a8420d",
   "metadata": {},
   "outputs": [
    {
     "name": "stdout",
     "output_type": "stream",
     "text": [
      "1 23 3\n",
      "[1, 23, 3]\n"
     ]
    }
   ],
   "source": [
    "d2=[]\n",
    "for i in range(1):\n",
    "    d2.append(list(map(int,input().split())))\n",
    "print(sum(d2,[]))\n"
   ]
  },
  {
   "cell_type": "code",
   "execution_count": 10,
   "id": "b2a609c1",
   "metadata": {},
   "outputs": [
    {
     "name": "stdout",
     "output_type": "stream",
     "text": [
      "[1, 2, 3, 4, 5, 6, 7, 8, 9]\n"
     ]
    }
   ],
   "source": [
    "list=[[1,2,3],[4,5,6],[7,8,9]]\n",
    "print(sum(list,[]))"
   ]
  },
  {
   "cell_type": "code",
   "execution_count": 11,
   "id": "7d99d7d7",
   "metadata": {},
   "outputs": [
    {
     "ename": "SyntaxError",
     "evalue": "invalid syntax (Temp/ipykernel_908/717181683.py, line 1)",
     "output_type": "error",
     "traceback": [
      "\u001b[1;36m  File \u001b[1;32m\"C:\\Users\\Vishwa\\AppData\\Local\\Temp/ipykernel_908/717181683.py\"\u001b[1;36m, line \u001b[1;32m1\u001b[0m\n\u001b[1;33m    n=\u001b[0m\n\u001b[1;37m      ^\u001b[0m\n\u001b[1;31mSyntaxError\u001b[0m\u001b[1;31m:\u001b[0m invalid syntax\n"
     ]
    }
   ],
   "source": [
    "n=\n",
    "numbers= [i*10 for i in range()]\n",
    " \n",
    "print(numbers"
   ]
  },
  {
   "cell_type": "code",
   "execution_count": 1,
   "id": "b7b4c46d",
   "metadata": {},
   "outputs": [
    {
     "name": "stdout",
     "output_type": "stream",
     "text": [
      "1 2 3 4\n",
      "[['1', '2', '3', '4']]\n"
     ]
    }
   ],
   "source": [
    "list=[input().split() for i in range(1)]\n",
    "print(list)"
   ]
  },
  {
   "cell_type": "code",
   "execution_count": 1,
   "id": "a1d85813",
   "metadata": {},
   "outputs": [
    {
     "ename": "SyntaxError",
     "evalue": "invalid syntax (Temp/ipykernel_21368/1105591025.py, line 1)",
     "output_type": "error",
     "traceback": [
      "\u001b[1;36m  File \u001b[1;32m\"C:\\Users\\Vishwa\\AppData\\Local\\Temp/ipykernel_21368/1105591025.py\"\u001b[1;36m, line \u001b[1;32m1\u001b[0m\n\u001b[1;33m    p = [int(b) for x in range(n+1) if x >= 1 a,b,c,d = input().split()]\u001b[0m\n\u001b[1;37m                                              ^\u001b[0m\n\u001b[1;31mSyntaxError\u001b[0m\u001b[1;31m:\u001b[0m invalid syntax\n"
     ]
    }
   ],
   "source": [
    "p = [int(b) for x in range(n+1) if x >= 1 a,b,c,d = input().split()]\n",
    "print(p)"
   ]
  },
  {
   "cell_type": "code",
   "execution_count": null,
   "id": "b6b3a58a",
   "metadata": {},
   "outputs": [],
   "source": [
    "size = int(input(\"Enter the size of list :\"))\n",
    "print(\"Enter \",size,\" numbers horizontally\")\n",
    "lis = [int(num) for num in input().split(\" \",size-1)]\n",
    "print(lis)"
   ]
  },
  {
   "cell_type": "code",
   "execution_count": 6,
   "id": "922230db",
   "metadata": {},
   "outputs": [
    {
     "name": "stdout",
     "output_type": "stream",
     "text": [
      "3 5 5\n",
      "[0, 5, 10]\n",
      "[0, 5, 10]\n",
      "0\n"
     ]
    }
   ],
   "source": [
    "N,M,X  = map(int,input().split())\n",
    "list1 = []\n",
    "list2 = []\n",
    "for i in range(N):\n",
    "        if i == 0:\n",
    "                list1.append(0)\n",
    "        else:\n",
    "                for j in range(N-1):\n",
    "                        list1.append(list1[j]+M)\n",
    "                if len(list1)==N:\n",
    "                        break\n",
    "print(list1)\n",
    "for i in range(N):\n",
    "        if i == 0:\n",
    "                list2.append(0)\n",
    "        else:\n",
    "                for j in range(N-1):\n",
    "                        list2.append(list2[j]+X)\n",
    "                if len(list2)==N:\n",
    "                        break\n",
    "print(list2)\n",
    "print(list2[-1]-list1[-1]) # .pop() function by default it points to last index of the list"
   ]
  },
  {
   "cell_type": "code",
   "execution_count": 4,
   "id": "8290b37b",
   "metadata": {},
   "outputs": [
    {
     "name": "stdout",
     "output_type": "stream",
     "text": [
      "5 3 10\n",
      "[0, 3, 6, 9, 12]\n",
      "[0, 10, 20, 30, 40]\n",
      "-28\n"
     ]
    }
   ],
   "source": [
    "N,M,X  = map(int,input().split())\n",
    "list1 = [i*M for i in range(N)]\n",
    "print(list1)\n",
    "list2 = [i*X for i in range(N)]\n",
    "print(list2)\n",
    "print(abs(list1[-1]-list2[-1]))   #abs() converts negative number to positive"
   ]
  },
  {
   "cell_type": "code",
   "execution_count": 4,
   "id": "7f8d4b6c",
   "metadata": {},
   "outputs": [
    {
     "name": "stdout",
     "output_type": "stream",
     "text": [
      "['hi', 'vishwa', 'here']\n",
      "hi vishwa here\n",
      "14\n"
     ]
    }
   ],
   "source": [
    "s=\"hi vishwa here\"\n",
    "s=s.split()\n",
    "print(s)\n",
    "s=' '.join(s)\n",
    "print(s)\n",
    "print(len(s))"
   ]
  },
  {
   "cell_type": "markdown",
   "id": "0317f352",
   "metadata": {},
   "source": [
    "#Budget problem persistent"
   ]
  },
  {
   "cell_type": "code",
   "execution_count": 7,
   "id": "9ec62e62",
   "metadata": {},
   "outputs": [
    {
     "name": "stdout",
     "output_type": "stream",
     "text": [
      "20\n",
      "3 3\n",
      "10 5 8 \n",
      "11 7 4\n",
      "19\n"
     ]
    }
   ],
   "source": [
    "budget = int(input())\n",
    "n,m=map(int,input().split())\n",
    "t=list(map(int,input().split()))\n",
    "j=list(map(int,input().split()))\n",
    "ans=-1\n",
    "for i in range(n):\n",
    "    for k in range(m):\n",
    "        if t[i]+j[k]<=budget:\n",
    "            ans=max(ans,t[i]+j[k])\n",
    "            if ans==budget:\n",
    "                break\n",
    "print(ans)"
   ]
  },
  {
   "cell_type": "code",
   "execution_count": null,
   "id": "d47c7e70",
   "metadata": {},
   "outputs": [],
   "source": [
    "#form a 2D list\n",
    "m,n=map(int,input().split())\n",
    "list=[int(i) for i in input().split(\" \",3)]\n",
    "print(list)"
   ]
  },
  {
   "cell_type": "code",
   "execution_count": null,
   "id": "8d617f4c",
   "metadata": {},
   "outputs": [],
   "source": [
    "n,k=map(int,input().split())\n",
    "e=[]\n",
    "for i in range(n):\n",
    "    e.append(list(map(int,input().split(\" \",k-1))))\n",
    "print(e)\n",
    "for i in range(n):\n",
    "    for j in range(k):\n",
    "        if e[i][j]>e[][]\n",
    "        "
   ]
  },
  {
   "cell_type": "code",
   "execution_count": 1,
   "id": "a975e17b",
   "metadata": {},
   "outputs": [
    {
     "name": "stdout",
     "output_type": "stream",
     "text": [
      "[3, 4, 4, 5, 7]\n"
     ]
    }
   ],
   "source": [
    "unsorted_list=[7,4,3,4,5]\n",
    "for i in range (len(unsorted_list)):\n",
    "    for j in range (i,  len(unsorted_list)):\n",
    "        if unsorted_list[i]> unsorted_list[j]:\n",
    "            unsorted_list[i], unsorted_list[j] = unsorted_list[j], unsorted_list[i]\n",
    "print(unsorted_list)"
   ]
  },
  {
   "cell_type": "code",
   "execution_count": null,
   "id": "fe2a9306",
   "metadata": {},
   "outputs": [],
   "source": [
    "list1=[-9,-2,55,43,65,32]\n",
    "list2=[]\n",
    "min=-9\n",
    "while list1:\n",
    "    for i in list1:\n",
    "        if i<min:\n",
    "            min=i\n",
    "            list2.append(min)\n",
    "            list1.remove(min)\n",
    "print(list2)\n",
    "    \n",
    "    \n"
   ]
  },
  {
   "cell_type": "code",
   "execution_count": 1,
   "id": "99a36acf",
   "metadata": {},
   "outputs": [],
   "source": [
    "#bubble sort Algorithm"
   ]
  },
  {
   "cell_type": "code",
   "execution_count": 26,
   "id": "ab600f87",
   "metadata": {},
   "outputs": [
    {
     "name": "stdout",
     "output_type": "stream",
     "text": [
      "Unsorted list is,\n",
      "[7, 12, 18, 18, 39, 72, -85, -1, 0]\n",
      "Sorted Array is, \n",
      "[-85, -1, 0, 7, 12, 18, 18, 39, 72]\n"
     ]
    }
   ],
   "source": [
    "def bubblesort(elements):\n",
    "    swapped = False\n",
    "    # Looping from size of array from last index[-1] to index [0]\n",
    "    for n in range(len(elements)-1, 0, -1):\n",
    "        for i in range(n):\n",
    "            if elements[i] > elements[i + 1]:\n",
    "                swapped = True\n",
    "                # swapping data if the element is less than next element in the array\n",
    "                elements[i], elements[i + 1] = elements[i + 1], elements[i]       \n",
    "        if swapped==False:\n",
    "            # exiting the function if we didn't make a single swap\n",
    "            # meaning that the array is already sorted.\n",
    "            return\n",
    "\n",
    "        \n",
    "elements = [ 7,12, 18, 18, 39, 72, -85,-1,0]\n",
    " \n",
    "print(\"Unsorted list is,\")\n",
    "print(elements)\n",
    "bubblesort(elements)\n",
    "print(\"Sorted Array is, \")\n",
    "print(elements)"
   ]
  },
  {
   "cell_type": "code",
   "execution_count": 3,
   "id": "fc749289",
   "metadata": {},
   "outputs": [
    {
     "name": "stdout",
     "output_type": "stream",
     "text": [
      "4 hfgh hgf hjjj  jjj jkkk  k\n",
      "4\n",
      "['hfgh', 'hgf', 'hjjj', 'jjj', 'jkkk', 'k']\n"
     ]
    }
   ],
   "source": [
    "first, *rest = input().split()\n",
    "print(first)\n",
    "print(rest)"
   ]
  },
  {
   "cell_type": "code",
   "execution_count": 6,
   "id": "adf63421",
   "metadata": {},
   "outputs": [
    {
     "name": "stdout",
     "output_type": "stream",
     "text": [
      "3\n"
     ]
    }
   ],
   "source": [
    "s=\"hi hello xns\"\n",
    "s=s.split()\n",
    "print(len(s))"
   ]
  },
  {
   "cell_type": "code",
   "execution_count": 10,
   "id": "aed5f898",
   "metadata": {},
   "outputs": [
    {
     "name": "stdout",
     "output_type": "stream",
     "text": [
      "th  the thing\n"
     ]
    }
   ],
   "source": [
    "text = \"this is the thing\"\n",
    "x = text.replace(\"is\", \"\")\n",
    "print(x)"
   ]
  },
  {
   "cell_type": "code",
   "execution_count": 11,
   "id": "e8ad0574",
   "metadata": {},
   "outputs": [
    {
     "name": "stdout",
     "output_type": "stream",
     "text": [
      "abcdefghijk\n"
     ]
    }
   ],
   "source": [
    "text = \"abcdblobefgblobhijk\"\n",
    "sub = \"blob\"\n",
    "\n",
    "new_text =''\n",
    "i=0\n",
    "last_i = 0\n",
    "while i <  len(text):\n",
    "    if text[i:i+len(sub)] == sub:\n",
    "        new_text += text[last_i:i]\n",
    "        last_i=i+len(sub)\n",
    "        i=i+len(sub)\n",
    "    else:\n",
    "        i+=1\n",
    "new_text += text[last_i:i]\n",
    "\n",
    "print(new_text)"
   ]
  },
  {
   "cell_type": "code",
   "execution_count": 18,
   "id": "39da30ed",
   "metadata": {},
   "outputs": [
    {
     "name": "stdout",
     "output_type": "stream",
     "text": [
      "String after removal of i'th character : DivsDwivedi\n"
     ]
    }
   ],
   "source": [
    "input_str = \"DivasDwivedi\"\n",
    "result_str = \"\" \n",
    "   \n",
    "for i in range(len(input_str)): \n",
    "    if i != 3: \n",
    "        result_str = result_str + input_str[i] \n",
    "   \n",
    "# Printing string after removal   \n",
    "print (\"String after removal of i'th character : \" + result_str)"
   ]
  },
  {
   "cell_type": "code",
   "execution_count": null,
   "id": "55bbf36e",
   "metadata": {},
   "outputs": [],
   "source": [
    "str1 = input(\"Please Enter your Own String : \")\n",
    "ch = input(\"Please Enter your Own Character : \")\n",
    "newch = input(\"Please Enter the New Character : \")\n",
    "\n",
    "str2 = ''\n",
    "for i in range(len(str1)):\n",
    "    if(str1[i] == ch):\n",
    "        str2 = str2 + newch\n",
    "    else:\n",
    "        str2 = str2 + str1[i]\n",
    "\n",
    "print(\"\\nOriginal String :  \", str1)\n",
    "print(\"Modified String :  \", str2)"
   ]
  },
  {
   "cell_type": "markdown",
   "id": "666fc64d",
   "metadata": {},
   "source": [
    "#TCS question pattern matching question for a given string"
   ]
  },
  {
   "cell_type": "code",
   "execution_count": 39,
   "id": "d7a12685",
   "metadata": {},
   "outputs": [
    {
     "name": "stdout",
     "output_type": "stream",
     "text": [
      "v tcs\n",
      "tcs\n",
      "v tcs , tcs\n"
     ]
    }
   ],
   "source": [
    "st=input()\n",
    "st=st.lower()\n",
    "st1=input()\n",
    "st1=st1.lower()\n",
    "print(\"{} , {}\".format(st,st1)) if st.startswith(st1) or st.endswith(st1) else print(\"{} not contains {}\".format(st,st1))\n"
   ]
  },
  {
   "cell_type": "markdown",
   "id": "28a420e9",
   "metadata": {},
   "source": [
    "#TCS QUESTION"
   ]
  },
  {
   "cell_type": "code",
   "execution_count": 16,
   "id": "f14abb47",
   "metadata": {},
   "outputs": [
    {
     "name": "stdout",
     "output_type": "stream",
     "text": [
      "5\n",
      "30 -20 "
     ]
    }
   ],
   "source": [
    "list=[[10,0],[10,20],[-20,20],[-20,-20],[30,-20],[90,-20],[90,50]]\n",
    "n=int(input())\n",
    "ans=list[n-1]\n",
    "for i in ans:\n",
    "    print(i,end=\" \")"
   ]
  },
  {
   "cell_type": "markdown",
   "id": "9a5d3436",
   "metadata": {},
   "source": [
    "#QUESTION SENT BY HUZAIFA ON 28 JUNE 2022"
   ]
  },
  {
   "cell_type": "code",
   "execution_count": 15,
   "id": "d6d71d9d",
   "metadata": {},
   "outputs": [
    {
     "name": "stdout",
     "output_type": "stream",
     "text": [
      "1\n",
      "CSE 6\n"
     ]
    },
    {
     "ename": "TypeError",
     "evalue": "'list' object is not callable",
     "output_type": "error",
     "traceback": [
      "\u001b[1;31m---------------------------------------------------------------------------\u001b[0m",
      "\u001b[1;31mTypeError\u001b[0m                                 Traceback (most recent call last)",
      "\u001b[1;32m~\\AppData\\Local\\Temp/ipykernel_10204/2268732079.py\u001b[0m in \u001b[0;36m<module>\u001b[1;34m\u001b[0m\n\u001b[0;32m     32\u001b[0m \u001b[1;33m\u001b[0m\u001b[0m\n\u001b[0;32m     33\u001b[0m \u001b[0mans\u001b[0m\u001b[1;33m=\u001b[0m\u001b[0msum\u001b[0m\u001b[1;33m(\u001b[0m\u001b[0mv\u001b[0m\u001b[1;33m,\u001b[0m\u001b[1;33m[\u001b[0m\u001b[1;33m]\u001b[0m\u001b[1;33m)\u001b[0m\u001b[1;33m\u001b[0m\u001b[1;33m\u001b[0m\u001b[0m\n\u001b[1;32m---> 34\u001b[1;33m \u001b[0mans\u001b[0m\u001b[1;33m=\u001b[0m\u001b[0mlist\u001b[0m\u001b[1;33m(\u001b[0m\u001b[0mmap\u001b[0m\u001b[1;33m(\u001b[0m\u001b[0mstr\u001b[0m\u001b[1;33m,\u001b[0m\u001b[0mans\u001b[0m\u001b[1;33m)\u001b[0m\u001b[1;33m)\u001b[0m\u001b[1;33m\u001b[0m\u001b[1;33m\u001b[0m\u001b[0m\n\u001b[0m\u001b[0;32m     35\u001b[0m \u001b[0ml\u001b[0m\u001b[1;33m=\u001b[0m\u001b[0mans\u001b[0m\u001b[1;33m[\u001b[0m\u001b[1;33m-\u001b[0m\u001b[1;36m1\u001b[0m\u001b[1;33m]\u001b[0m\u001b[1;33m\u001b[0m\u001b[1;33m\u001b[0m\u001b[0m\n\u001b[0;32m     36\u001b[0m \u001b[1;32mdef\u001b[0m \u001b[0mf\u001b[0m\u001b[1;33m(\u001b[0m\u001b[0mans\u001b[0m\u001b[1;33m)\u001b[0m\u001b[1;33m:\u001b[0m\u001b[1;33m\u001b[0m\u001b[1;33m\u001b[0m\u001b[0m\n",
      "\u001b[1;31mTypeError\u001b[0m: 'list' object is not callable"
     ]
    }
   ],
   "source": [
    "n=int(input())\n",
    "r=[]\n",
    "for i in range(n):\n",
    "    name,digit=input().split()\n",
    "    digit=int(digit)\n",
    "    r+=[[name,digit]]    #STORING NAME AND DIGIT IN r[] EXAMPLE:[['CSE', 41], ['SSE', 34]]\n",
    "    \n",
    "v1=[]    #making 3 separate 2D list for each CSE , SSE , NSE ....storing in v1,v2,v3\n",
    "v2=[]\n",
    "v3=[]\n",
    "for i in range(len(r)):\n",
    "    for j in range(len(r[i])):\n",
    "        if r[i][j]=='CSE':\n",
    "            v1.append(r[i])\n",
    "        elif r[i][j]=='SSE':\n",
    "            v2.append(r[i])\n",
    "        elif r[i][j]=='NSE':\n",
    "            v3.append(r[i])\n",
    "\n",
    "            \n",
    "\n",
    "v1.sort(key=lambda x:x[1])\n",
    "v1.reverse()\n",
    "#print(v1)\n",
    "v2.sort(key=lambda x:x[1])\n",
    "v2.reverse()\n",
    "\n",
    "v3.sort(key=lambda x:x[1])\n",
    "v3.reverse()\n",
    "\n",
    "v=v1+v2+v3 #concatinating all 3 list of CSE , SSE , NSE in v\n",
    "    \n",
    "ans=sum(v,[])\n",
    "l=ans[-1]\n",
    "def f(ans):\n",
    "    for i in range(len(ans)):\n",
    "        if i%2==0:\n",
    "            print(ans[i],end=\" \")\n",
    "        if i%2!=0 and i<len(ans)-1:\n",
    "            print(ans[i],end=\",\")\n",
    "f(ans)            \n",
    "res=str(f(ans))\n",
    "print(res)\n",
    "res1=res.replace(\"None\",str(l))\n",
    "print((res1))"
   ]
  },
  {
   "cell_type": "code",
   "execution_count": 6,
   "id": "91c0bc39",
   "metadata": {},
   "outputs": [
    {
     "name": "stdout",
     "output_type": "stream",
     "text": [
      "3\n",
      "CSE 65\n",
      "NSE 76\n",
      "SSE 7\n",
      "CSE 65, SSE 7, NSE 76"
     ]
    }
   ],
   "source": [
    "def printCSE(cse, count):\n",
    "    if count != 0:\n",
    "        for j in cseStocks:\n",
    "            print(f\"CSE {j}, \", end=\"\")\n",
    "    else:\n",
    "        for j in cseStocks:\n",
    "            if j != cseStocks[-1]:\n",
    "                print(f\"CSE {j}, \", end=\"\")\n",
    "            else:\n",
    "                print(f\"CSE {j}\", end=\"\")\n",
    "\n",
    "\n",
    "def printSSE(sse, count):\n",
    "    if count != 0:\n",
    "        for j in sseStocks:\n",
    "            print(f\"SSE {j}, \", end=\"\")\n",
    "    else:\n",
    "        for j in sseStocks:\n",
    "            if j != sseStocks[-1]:\n",
    "                print(f\"SSE {j}, \", end=\"\")\n",
    "            else:\n",
    "                print(f\"SSE {j}\", end=\"\")\n",
    "\n",
    "\n",
    "def printNSE(nse):\n",
    "    for j in nseStocks:\n",
    "        if j != nseStocks[-1]:\n",
    "            print(f\"NSE {j}, \", end=\"\")\n",
    "        else:\n",
    "            print(f\"NSE {j}\", end=\"\")\n",
    "\n",
    "\n",
    "n = int(input())\n",
    "stocks, cseStocks, sseStocks, nseStocks, stockNames = [], [], [], [], []\n",
    "nseCount, sseCount, cseCount = 0, 0, 0\n",
    "for i in range(0, n):\n",
    "    str = input().upper().split()\n",
    "    stocks.append(str)\n",
    "\n",
    "for i in range(0, len(stocks)):\n",
    "    if stocks[i][0] == 'CSE':\n",
    "        cseStocks.append(int(stocks[i][1]))\n",
    "        stockNames.append(stocks[i][0])\n",
    "    elif stocks[i][0] == 'SSE':\n",
    "        sseStocks.append(int(stocks[i][1]))\n",
    "        stockNames.append(stocks[i][0])\n",
    "    elif stocks[i][0] == 'NSE':\n",
    "        nseStocks.append(int(stocks[i][1]))\n",
    "        stockNames.append(stocks[i][0])\n",
    "    else:\n",
    "        break\n",
    "\n",
    "cseStocks.sort(reverse=True)\n",
    "sseStocks.sort(reverse=True)\n",
    "nseStocks.sort(reverse=True)\n",
    "\n",
    "for i in stockNames:\n",
    "    if i == 'CSE':\n",
    "        cseCount += 1\n",
    "    elif i == 'SSE':\n",
    "        sseCount += 1\n",
    "    elif i == 'NSE':\n",
    "        nseCount += 1\n",
    "    else:\n",
    "        break\n",
    "\n",
    "if sseCount == 0:\n",
    "    printCSE(cseStocks, sseCount)\n",
    "    printNSE(nseStocks)\n",
    "elif nseStocks == 0:\n",
    "    printCSE(cseStocks, sseCount)\n",
    "    printSSE(sseStocks, nseCount)\n",
    "elif cseStocks == 0:\n",
    "    printSSE(sseStocks, nseCount)\n",
    "    printNSE(nseStocks)\n",
    "else:\n",
    "    printCSE(cseStocks, sseCount)\n",
    "    printSSE(sseStocks, nseCount)\n",
    "    printNSE(nseStocks)\n"
   ]
  },
  {
   "cell_type": "code",
   "execution_count": 9,
   "id": "3d40b7c6",
   "metadata": {},
   "outputs": [
    {
     "name": "stdout",
     "output_type": "stream",
     "text": [
      "1\n",
      "CSE 56\n"
     ]
    },
    {
     "ename": "TypeError",
     "evalue": "'list' object is not callable",
     "output_type": "error",
     "traceback": [
      "\u001b[1;31m---------------------------------------------------------------------------\u001b[0m",
      "\u001b[1;31mTypeError\u001b[0m                                 Traceback (most recent call last)",
      "\u001b[1;32m~\\AppData\\Local\\Temp/ipykernel_10204/2164165839.py\u001b[0m in \u001b[0;36m<module>\u001b[1;34m\u001b[0m\n\u001b[0;32m     32\u001b[0m \u001b[1;33m\u001b[0m\u001b[0m\n\u001b[0;32m     33\u001b[0m \u001b[0mans\u001b[0m\u001b[1;33m=\u001b[0m\u001b[0msum\u001b[0m\u001b[1;33m(\u001b[0m\u001b[0mv\u001b[0m\u001b[1;33m,\u001b[0m\u001b[1;33m[\u001b[0m\u001b[1;33m]\u001b[0m\u001b[1;33m)\u001b[0m\u001b[1;33m\u001b[0m\u001b[1;33m\u001b[0m\u001b[0m\n\u001b[1;32m---> 34\u001b[1;33m \u001b[0mans\u001b[0m\u001b[1;33m=\u001b[0m\u001b[0mlist\u001b[0m\u001b[1;33m(\u001b[0m\u001b[0mmap\u001b[0m\u001b[1;33m(\u001b[0m\u001b[0mstr\u001b[0m\u001b[1;33m,\u001b[0m\u001b[0mans\u001b[0m\u001b[1;33m)\u001b[0m\u001b[1;33m)\u001b[0m\u001b[1;33m\u001b[0m\u001b[1;33m\u001b[0m\u001b[0m\n\u001b[0m\u001b[0;32m     35\u001b[0m \u001b[0ml\u001b[0m\u001b[1;33m=\u001b[0m\u001b[0mans\u001b[0m\u001b[1;33m[\u001b[0m\u001b[1;33m-\u001b[0m\u001b[1;36m1\u001b[0m\u001b[1;33m]\u001b[0m\u001b[1;33m\u001b[0m\u001b[1;33m\u001b[0m\u001b[0m\n\u001b[0;32m     36\u001b[0m \u001b[1;32mdef\u001b[0m \u001b[0mf\u001b[0m\u001b[1;33m(\u001b[0m\u001b[0mans\u001b[0m\u001b[1;33m)\u001b[0m\u001b[1;33m:\u001b[0m\u001b[1;33m\u001b[0m\u001b[1;33m\u001b[0m\u001b[0m\n",
      "\u001b[1;31mTypeError\u001b[0m: 'list' object is not callable"
     ]
    }
   ],
   "source": [
    "n=int(input())\n",
    "r=[]\n",
    "for i in range(n):\n",
    "    name,digit=input().split()\n",
    "    digit=int(digit)\n",
    "    r+=[[name,digit]]    #STORING NAME AND DIGIT IN r[] EXAMPLE:[['CSE', 41], ['SSE', 34]]\n",
    "    \n",
    "v1=[]    #making 3 separate 2D list for each CSE , SSE , NSE ....storing in v1,v2,v3\n",
    "v2=[]\n",
    "v3=[]\n",
    "for i in range(len(r)):\n",
    "    for j in range(len(r[i])):\n",
    "        if r[i][j]=='CSE':\n",
    "            v1.append(r[i])\n",
    "        elif r[i][j]=='SSE':\n",
    "            v2.append(r[i])\n",
    "        elif r[i][j]=='NSE':\n",
    "            v3.append(r[i])\n",
    "\n",
    "            \n",
    "\n",
    "v1.sort(key=lambda x:x[1])\n",
    "v1.reverse()\n",
    "#print(v1)\n",
    "v2.sort(key=lambda x:x[1])\n",
    "v2.reverse()\n",
    "\n",
    "v3.sort(key=lambda x:x[1])\n",
    "v3.reverse()\n",
    "\n",
    "v=v1+v2+v3 #concatinating all 3 list of CSE , SSE , NSE in v\n",
    "    \n",
    "ans=sum(v,[])\n",
    "ans=list(map(str,ans))\n",
    "l=ans[-1]\n",
    "def f(ans):\n",
    "    for i in range(len(ans)):\n",
    "        if i%2==0:\n",
    "            print(ans[i],end=\" \")\n",
    "        if i%2!=0 and i<len(ans)-1:\n",
    "            print(ans[i],end=\",\")\n",
    "res=str(f(ans))\n",
    "print(res.replace(\"None\",l))"
   ]
  },
  {
   "cell_type": "code",
   "execution_count": 17,
   "id": "72ca3558",
   "metadata": {},
   "outputs": [
    {
     "name": "stdout",
     "output_type": "stream",
     "text": [
      "CSE 41,SSE "
     ]
    }
   ],
   "source": [
    "ans=['CSE', 41, 'SSE', 34]\n",
    "#ans=list(map(str,ans))\n",
    "l=ans[-1]\n",
    "def f(ans):\n",
    "    for i in range(len(ans)):\n",
    "        if i%2==0:\n",
    "            print(ans[i],end=\" \")\n",
    "        if i%2!=0 and i<len(ans)-1:\n",
    "            print(ans[i],end=\",\")\n",
    "f(ans)            \n"
   ]
  },
  {
   "cell_type": "code",
   "execution_count": 2,
   "id": "47a43aaf",
   "metadata": {},
   "outputs": [
    {
     "name": "stdout",
     "output_type": "stream",
     "text": [
      "3\n",
      "CSE 76\n",
      "NSE 7\n",
      "CSE 76\n",
      "CSE 76,CSE 76,NSE 7\n"
     ]
    }
   ],
   "source": [
    "n=int(input())\n",
    "r=[]\n",
    "for i in range(n):\n",
    "    name,digit=input().split()\n",
    "    digit=int(digit)\n",
    "    r+=[[name,digit]]    #STORING NAME AND DIGIT IN r[] EXAMPLE:[['CSE', 41], ['SSE', 34]]\n",
    "    \n",
    "v1=[]    #making 3 separate 2D list for each CSE , SSE , NSE ....storing in v1,v2,v3\n",
    "v2=[]\n",
    "v3=[]\n",
    "for i in range(len(r)):\n",
    "    for j in range(len(r[i])):\n",
    "        if r[i][j]=='CSE':\n",
    "            v1.append(r[i])\n",
    "        elif r[i][j]=='SSE':\n",
    "            v2.append(r[i])\n",
    "        elif r[i][j]=='NSE':\n",
    "            v3.append(r[i])\n",
    "\n",
    "            \n",
    "\n",
    "v1.sort(key=lambda x:x[1])\n",
    "v1.reverse()\n",
    "#print(v1)\n",
    "v2.sort(key=lambda x:x[1])\n",
    "v2.reverse()\n",
    "\n",
    "v3.sort(key=lambda x:x[1])\n",
    "v3.reverse()\n",
    "\n",
    "v=v1+v2+v3 #concatinating all 3 list of CSE , SSE , NSE in v\n",
    "    \n",
    "ans=sum(v,[])\n",
    "ans=list(map(str,ans))\n",
    "l=ans[-1]\n",
    "def f(ans):\n",
    "    for i in range(len(ans)):\n",
    "        if i%2==0:\n",
    "            print(ans[i],end=\" \")\n",
    "        if i%2!=0 and i<len(ans)-1:\n",
    "            print(ans[i],end=\",\")\n",
    "res=str(f(ans))\n",
    "print(res.replace(\"None\",l))"
   ]
  },
  {
   "cell_type": "code",
   "execution_count": 3,
   "id": "a80bc2a8",
   "metadata": {},
   "outputs": [
    {
     "name": "stdout",
     "output_type": "stream",
     "text": [
      "1\n",
      "CSE 4\n",
      "CSE 4\n"
     ]
    }
   ],
   "source": [
    "n=int(input())\n",
    "r=[]\n",
    "for i in range(n):\n",
    "    name,digit=input().split()\n",
    "    digit=int(digit)\n",
    "    r+=[[name,digit]]    #STORING NAME AND DIGIT IN r[] EXAMPLE:[['CSE', 41], ['SSE', 34]]\n",
    "    \n",
    "v1=[]    #making 3 separate 2D list for each CSE , SSE , NSE ....storing in v1,v2,v3\n",
    "v2=[]\n",
    "v3=[]\n",
    "for i in range(len(r)):\n",
    "    for j in range(len(r[i])):\n",
    "        if r[i][j]=='CSE':\n",
    "            v1.append(r[i])\n",
    "        elif r[i][j]=='SSE':\n",
    "            v2.append(r[i])\n",
    "        elif r[i][j]=='NSE':\n",
    "            v3.append(r[i])\n",
    "\n",
    "            \n",
    "\n",
    "v1.sort(key=lambda x:x[1])\n",
    "v1.reverse()\n",
    "#print(v1)\n",
    "v2.sort(key=lambda x:x[1])\n",
    "v2.reverse()\n",
    "\n",
    "v3.sort(key=lambda x:x[1])\n",
    "v3.reverse()\n",
    "\n",
    "v=v1+v2+v3 #concatinating all 3 list of CSE , SSE , NSE in v\n",
    "    \n",
    "ans=sum(v,[])\n",
    "ans=list(map(str,ans))\n",
    "l=ans[-1]\n",
    "def f(ans):\n",
    "    for i in range(len(ans)):\n",
    "        if i%2==0:\n",
    "            print(ans[i],end=\" \")\n",
    "        if i%2!=0 and i<len(ans)-1:\n",
    "            print(ans[i],end=\",\")\n",
    "res=str(f(ans))\n",
    "print(res.replace(\"None\",l))"
   ]
  },
  {
   "cell_type": "markdown",
   "id": "890943fe",
   "metadata": {},
   "source": [
    "#Print the word which has maximum length in given string"
   ]
  },
  {
   "cell_type": "code",
   "execution_count": 25,
   "id": "14950a36",
   "metadata": {},
   "outputs": [
    {
     "name": "stdout",
     "output_type": "stream",
     "text": [
      "['The', 'richest', 'monument', 'of', 'India', 'is', 'Taj', 'Mahal']\n",
      "8\n"
     ]
    }
   ],
   "source": [
    "str=\"The richest monument of India is Taj Mahal \"\n",
    "str1=str.split()\n",
    "print(str1)\n",
    "word_at_loc = 0\n",
    "for i in range(len(str1)):\n",
    "    if len(str1[i])>word_at_loc:\n",
    "        word_at_loc=len(str1[i])\n",
    "print(word_at_loc)\n",
    "    \n"
   ]
  },
  {
   "cell_type": "code",
   "execution_count": 27,
   "id": "7b013a3e",
   "metadata": {},
   "outputs": [
    {
     "name": "stdout",
     "output_type": "stream",
     "text": [
      "[['CSE', 44], ['CSE', 43], ['SSE', 56], ['SSE', 67], ['NSE', 87], ['NSE', 89]]\n"
     ]
    }
   ],
   "source": [
    "l1=[['CSE',44],['CSE',43]]\n",
    "l2=[['SSE',56],['SSE',67]]\n",
    "l3=[['NSE',87],['NSE',89]]\n",
    "\n",
    "new_list=l1+l2+l3\n",
    "print(new_list)"
   ]
  },
  {
   "cell_type": "code",
   "execution_count": 32,
   "id": "bd01f96f",
   "metadata": {},
   "outputs": [
    {
     "name": "stdout",
     "output_type": "stream",
     "text": [
      "[['CSE', 44, 3], ['CSE', 43, 98], ['CSE', 56, 99]]\n"
     ]
    }
   ],
   "source": [
    "r=[['CSE', 44, 3], ['CSE', 43,98], ['CSE', 56,99]]\n",
    "r.sort(key=lambda x:x[2])\n",
    "#r.reverse()\n",
    "print(r)"
   ]
  },
  {
   "cell_type": "code",
   "execution_count": 1,
   "id": "50aa0149",
   "metadata": {},
   "outputs": [],
   "source": [
    "def f(n):\n",
    "    for x in range(n):\n",
    "        yield x**3\n",
    "res =[i for i in f(5)]"
   ]
  },
  {
   "cell_type": "code",
   "execution_count": 7,
   "id": "188d319e",
   "metadata": {},
   "outputs": [
    {
     "ename": "SyntaxError",
     "evalue": "invalid non-printable character U+00A0 (Temp/ipykernel_6000/34929275.py, line 2)",
     "output_type": "error",
     "traceback": [
      "\u001b[1;36m  File \u001b[1;32m\"C:\\Users\\Vishwa\\AppData\\Local\\Temp/ipykernel_6000/34929275.py\"\u001b[1;36m, line \u001b[1;32m2\u001b[0m\n\u001b[1;33m    part_1 = \"abcdefgh\"\u001b[0m\n\u001b[1;37m    ^\u001b[0m\n\u001b[1;31mSyntaxError\u001b[0m\u001b[1;31m:\u001b[0m invalid non-printable character U+00A0\n"
     ]
    }
   ],
   "source": [
    "def get_bits(length,byte):\n",
    "    part_1 = \"abcdefgh\"\n",
    "    part_2 = 'ijklmnop'\n",
    "    \n",
    "    if(byte[0] == '0'):\n",
    "        part_1_len = len(part_1)\n",
    "        if (byte[1] == \"0\"):\n",
    "            part_1_len -= length\n",
    "            if (byte[2] == \"0\"):\n",
    "                part_1_len -= (length//2)\n",
    "                if (byte[3] == \"1\"):\n",
    "                    print(part_1[1])\n",
    "                else:\n",
    "                    print(part_1[0])\n",
    "                \n",
    "    # print(length,byte)\n",
    "    \n",
    "length_1 = 4\n",
    "byte_1 = \"0001\" \n",
    "\n",
    "get_bits(length,byte)"
   ]
  },
  {
   "cell_type": "code",
   "execution_count": 1,
   "id": "df4baeae",
   "metadata": {},
   "outputs": [
    {
     "name": "stdout",
     "output_type": "stream",
     "text": [
      "745333\n",
      "333547\n"
     ]
    }
   ],
   "source": [
    "n=input()\n",
    "n=list(n)\n",
    "if n[0]=='-':\n",
    "    j=n.pop(0)\n",
    "    k=n[::-1]\n",
    "    k.insert(0,j)\n",
    "    print(*k,sep=\"\")\n",
    "else:\n",
    "    k=n[::-1]\n",
    "    m=''.join(k)\n",
    "    f=m.replace('0','')\n",
    "    print(f)"
   ]
  },
  {
   "cell_type": "code",
   "execution_count": 1,
   "id": "bf8f0b04",
   "metadata": {},
   "outputs": [
    {
     "name": "stdout",
     "output_type": "stream",
     "text": [
      "7\n",
      "7\n"
     ]
    }
   ],
   "source": [
    "n=int(input())\n",
    "if n>0:\n",
    "    s1=str(n)\n",
    "    s2=s1[::-1]\n",
    "    if int(s2)>65535:\n",
    "        print(\"w\")\n",
    "        exit()\n",
    "    print(int(s2))\n",
    "else:\n",
    "    n2=abs(n)\n",
    "    n3=str(n2)\n",
    "    "
   ]
  },
  {
   "cell_type": "markdown",
   "id": "6293589b",
   "metadata": {},
   "source": [
    "#flip  1 digit and find the max number possible"
   ]
  },
  {
   "cell_type": "code",
   "execution_count": 54,
   "id": "087fd346",
   "metadata": {},
   "outputs": [
    {
     "name": "stdout",
     "output_type": "stream",
     "text": [
      "123\n",
      "323\n"
     ]
    }
   ],
   "source": [
    "n=int(input())\n",
    "n1=str(n)\n",
    "max=0\n",
    "for i in n1:\n",
    "    if max<int(i):\n",
    "        max=int(i)\n",
    "n=str(n)\n",
    "r1=n.replace(n[0],str(max))\n",
    "print(int(''.join(r1)))\n",
    "\n",
    "\n",
    "    \n",
    "\n",
    "    "
   ]
  },
  {
   "cell_type": "code",
   "execution_count": null,
   "id": "ceb28e95",
   "metadata": {},
   "outputs": [],
   "source": []
  }
 ],
 "metadata": {
  "kernelspec": {
   "display_name": "Python 3 (ipykernel)",
   "language": "python",
   "name": "python3"
  },
  "language_info": {
   "codemirror_mode": {
    "name": "ipython",
    "version": 3
   },
   "file_extension": ".py",
   "mimetype": "text/x-python",
   "name": "python",
   "nbconvert_exporter": "python",
   "pygments_lexer": "ipython3",
   "version": "3.9.7"
  }
 },
 "nbformat": 4,
 "nbformat_minor": 5
}
