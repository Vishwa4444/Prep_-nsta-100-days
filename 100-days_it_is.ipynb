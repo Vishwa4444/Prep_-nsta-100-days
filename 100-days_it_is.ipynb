{
 "cells": [
  {
   "cell_type": "markdown",
   "id": "3e5fe4dd",
   "metadata": {},
   "source": [
    "#In a science research lab, combining two\n",
    "#nuclear chemicals produces a maximum\n",
    "#energy that is the product of the energy of the\n",
    "#two chemicals  \n",
    "\n",
    "#FIND TWO MAXIMUM NUMBERS FROM GIVEN LIST"
   ]
  },
  {
   "cell_type": "code",
   "execution_count": 22,
   "id": "85235706",
   "metadata": {},
   "outputs": [
    {
     "name": "stdout",
     "output_type": "stream",
     "text": [
      "enter n:4\n",
      "12\n",
      "34\n",
      "54\n",
      "123\n",
      "[12, 34, 54, 123]\n",
      "[12, 34, 54, 123]\n",
      "177\n"
     ]
    }
   ],
   "source": [
    "\n",
    "n=int(input(\"enter n:\"))\n",
    "try:\n",
    "    list=[]\n",
    "    for i in range(n):\n",
    "        list.append(int(input()))\n",
    "except:\n",
    "    print(list)\n",
    "print(list)\n",
    "list.sort()\n",
    "print(list)    \n",
    "print(list[-1]+list[-2])"
   ]
  },
  {
   "cell_type": "markdown",
   "id": "9e3dfbb0",
   "metadata": {},
   "source": [
    "<!-- bitwise opertaions\n",
    "~ tilde :works on 8 bits   \n",
    "& bitwise &\n",
    "| bitwise or |\n",
    " left shift <<\n",
    " right shift >> -->"
   ]
  },
  {
   "cell_type": "markdown",
   "id": "c8e8a4d4",
   "metadata": {},
   "source": [
    "#bitwise operators  ~,&,|,^"
   ]
  },
  {
   "cell_type": "code",
   "execution_count": 24,
   "id": "46acbcb8",
   "metadata": {},
   "outputs": [
    {
     "name": "stdout",
     "output_type": "stream",
     "text": [
      "-16\n"
     ]
    }
   ],
   "source": [
    " print(~10+~4)"
   ]
  },
  {
   "cell_type": "code",
   "execution_count": 25,
   "id": "17b7fd59",
   "metadata": {},
   "outputs": [
    {
     "name": "stdout",
     "output_type": "stream",
     "text": [
      "2\n"
     ]
    }
   ],
   "source": [
    "print(10 & 2)"
   ]
  },
  {
   "cell_type": "code",
   "execution_count": 26,
   "id": "438d8481",
   "metadata": {},
   "outputs": [
    {
     "name": "stdout",
     "output_type": "stream",
     "text": [
      "10\n"
     ]
    }
   ],
   "source": [
    "print(10 | 2)"
   ]
  },
  {
   "cell_type": "code",
   "execution_count": 27,
   "id": "47edc40b",
   "metadata": {},
   "outputs": [
    {
     "name": "stdout",
     "output_type": "stream",
     "text": [
      "8\n"
     ]
    }
   ],
   "source": [
    "print(10 ^ 2)"
   ]
  },
  {
   "cell_type": "code",
   "execution_count": 28,
   "id": "e9ad2ab7",
   "metadata": {},
   "outputs": [
    {
     "name": "stdout",
     "output_type": "stream",
     "text": [
      "40\n"
     ]
    }
   ],
   "source": [
    "print(10 << 2)"
   ]
  },
  {
   "cell_type": "code",
   "execution_count": 29,
   "id": "c4990f48",
   "metadata": {},
   "outputs": [
    {
     "name": "stdout",
     "output_type": "stream",
     "text": [
      "2\n"
     ]
    }
   ],
   "source": [
    "print(10 >> 2)"
   ]
  },
  {
   "cell_type": "markdown",
   "id": "dae07c75",
   "metadata": {},
   "source": [
    "#floor , ceil , pow in math module"
   ]
  },
  {
   "cell_type": "code",
   "execution_count": 30,
   "id": "2079ce26",
   "metadata": {},
   "outputs": [
    {
     "name": "stdout",
     "output_type": "stream",
     "text": [
      "2\n"
     ]
    }
   ],
   "source": [
    "import math\n",
    "print(math.floor(2.9))"
   ]
  },
  {
   "cell_type": "code",
   "execution_count": 31,
   "id": "80770ded",
   "metadata": {},
   "outputs": [
    {
     "name": "stdout",
     "output_type": "stream",
     "text": [
      "3\n"
     ]
    }
   ],
   "source": [
    "import math\n",
    "print(math.ceil(2.1))"
   ]
  },
  {
   "cell_type": "markdown",
   "id": "6f39bb0d",
   "metadata": {},
   "source": [
    "3 ways to import the modules are\n",
    "1)import math\n",
    "\n",
    "2)import math as m\n",
    "\n",
    "3)from math import sqrt,pow"
   ]
  },
  {
   "cell_type": "code",
   "execution_count": 32,
   "id": "1e359fa5",
   "metadata": {},
   "outputs": [
    {
     "name": "stdout",
     "output_type": "stream",
     "text": [
      "8.0\n"
     ]
    }
   ],
   "source": [
    "import math as m\n",
    "print(m.pow(2,3))"
   ]
  },
  {
   "cell_type": "code",
   "execution_count": 33,
   "id": "2d6b1cd8",
   "metadata": {
    "scrolled": true
   },
   "outputs": [
    {
     "name": "stdout",
     "output_type": "stream",
     "text": [
      "27.0\n",
      "2.0\n"
     ]
    }
   ],
   "source": [
    "from math import pow ,sqrt\n",
    "print(pow(3,3))\n",
    "print(sqrt(4))"
   ]
  },
  {
   "cell_type": "markdown",
   "id": "4253d295",
   "metadata": {},
   "source": [
    "#program to find Even or odd"
   ]
  },
  {
   "cell_type": "code",
   "execution_count": 34,
   "id": "7ebcbef1",
   "metadata": {},
   "outputs": [
    {
     "name": "stdout",
     "output_type": "stream",
     "text": [
      "Enter a number:5\n",
      "Odd\n"
     ]
    }
   ],
   "source": [
    "n=int(input(\"Enter a number:\"))\n",
    "print(\"Even\") if(n%2==0) else print(\"Odd\") "
   ]
  },
  {
   "cell_type": "markdown",
   "id": "164e2525",
   "metadata": {},
   "source": [
    "#program to find sum of natural numbers"
   ]
  },
  {
   "cell_type": "code",
   "execution_count": 35,
   "id": "862ec2f2",
   "metadata": {},
   "outputs": [
    {
     "name": "stdout",
     "output_type": "stream",
     "text": [
      "enter the numbers:4\n",
      "10.0\n"
     ]
    }
   ],
   "source": [
    "n = eval(input(\"enter the numbers:\"))\n",
    "print((n*(n+1))/2)"
   ]
  },
  {
   "cell_type": "markdown",
   "id": "7698079e",
   "metadata": {},
   "source": [
    " #program to find greatest three numbers"
   ]
  },
  {
   "cell_type": "code",
   "execution_count": 36,
   "id": "9e2849c0",
   "metadata": {},
   "outputs": [
    {
     "name": "stdout",
     "output_type": "stream",
     "text": [
      "30\n"
     ]
    }
   ],
   "source": [
    "n1,n2,n3=10,20,30\n",
    "max=n1 if n1>n2 else n2\n",
    "max=n3 if n3>max else max\n",
    "print(max)"
   ]
  },
  {
   "cell_type": "markdown",
   "id": "6a3e2f92",
   "metadata": {},
   "source": [
    "#program to find greatest of two numbers"
   ]
  },
  {
   "cell_type": "code",
   "execution_count": 37,
   "id": "2e811051",
   "metadata": {},
   "outputs": [
    {
     "name": "stdout",
     "output_type": "stream",
     "text": [
      "40\n"
     ]
    }
   ],
   "source": [
    "n1,n2=10,40\n",
    "print(n1) if (n1>n2) else print(n2)"
   ]
  },
  {
   "cell_type": "markdown",
   "id": "5d400b42",
   "metadata": {},
   "source": [
    "#program to find leap year or not\n",
    "\n",
    "#two conditions to  be in leap year\n",
    "\n",
    "# 1)it must be divisible by 400 \n",
    "\n",
    "# 2)it must divisible by 4 and not by 100\n"
   ]
  },
  {
   "cell_type": "code",
   "execution_count": 38,
   "id": "dba79def",
   "metadata": {},
   "outputs": [
    {
     "name": "stdout",
     "output_type": "stream",
     "text": [
      "Enter the year to check if its a leap year or not 2012\n",
      "leap year\n"
     ]
    }
   ],
   "source": [
    "year=int(input(\"Enter the year to check if its a leap year or not \"))\n",
    "print(\"leap year\") if (year%400==0 or year%4==0 and year%100!=0) else print(\"not leap year\")"
   ]
  },
  {
   "cell_type": "markdown",
   "id": "8b712d0b",
   "metadata": {},
   "source": [
    "#program to find prime number "
   ]
  },
  {
   "cell_type": "code",
   "execution_count": 39,
   "id": "f7fdbeda",
   "metadata": {},
   "outputs": [
    {
     "name": "stdout",
     "output_type": "stream",
     "text": [
      "Not Prime\n"
     ]
    }
   ],
   "source": [
    "n=27\n",
    "flag=0\n",
    "\n",
    "if n<2:\n",
    "    flag=1\n",
    "    \n",
    "else:\n",
    "    for i in range(2,int(pow(n,0.5)+1)):\n",
    "        if n%i==0:\n",
    "            flag=1\n",
    "            break\n",
    "print(\"Not Prime\") if flag == 1 else print(\"Prime\")            \n",
    "\n",
    "            "
   ]
  },
  {
   "cell_type": "markdown",
   "id": "b4905861",
   "metadata": {},
   "source": [
    "#program to find prime number by recursion method"
   ]
  },
  {
   "cell_type": "code",
   "execution_count": 40,
   "id": "29181a15",
   "metadata": {},
   "outputs": [
    {
     "name": "stdout",
     "output_type": "stream",
     "text": [
      "Prime\n"
     ]
    }
   ],
   "source": [
    "n=151\n",
    "def checkPrime(n,i=2):\n",
    "    if n == i:\n",
    "        return True\n",
    "    if n%i==0:\n",
    "        return False\n",
    "    if n<2:\n",
    "        return False\n",
    "    return checkPrime(n,i+1)\n",
    "\n",
    "if checkPrime(n)==True:\n",
    "    print(\"Prime\")\n",
    "else:\n",
    "    print(\"Not Prime\")"
   ]
  },
  {
   "cell_type": "code",
   "execution_count": 41,
   "id": "0db1ec64",
   "metadata": {},
   "outputs": [
    {
     "name": "stdout",
     "output_type": "stream",
     "text": [
      "Enter  a number to check :3\n",
      "Prime\n",
      "Enter  a number to check :4\n",
      "Not prime\n",
      "Enter  a number to check :3\n",
      "Prime\n",
      "Enter  a number to check :12\n",
      "Not prime\n"
     ]
    }
   ],
   "source": [
    "for i in range(4):\n",
    "    n=int(input(\"Enter  a number to check :\"))\n",
    "    \n",
    "    flag=0\n",
    "    if n<2:\n",
    "        flag=1\n",
    "    else:\n",
    "        for i in range(2,int(pow(n,0.5)+1)):\n",
    "            if n%i==0:\n",
    "                flag=1\n",
    "                break\n",
    "    print(\"Not prime\") if flag==1 else print(\"Prime\")"
   ]
  },
  {
   "cell_type": "markdown",
   "id": "c157c45a",
   "metadata": {},
   "source": [
    "#program to print prime numbers in given range"
   ]
  },
  {
   "cell_type": "code",
   "execution_count": 42,
   "id": "a9bc13eb",
   "metadata": {},
   "outputs": [
    {
     "name": "stdout",
     "output_type": "stream",
     "text": [
      "Enter the lower range:2\n",
      "Enter the Higher range:9\n",
      "2 3 5 7 "
     ]
    }
   ],
   "source": [
    "Lower_Range  =  int(input(\"Enter the lower range:\"))\n",
    "Higher_Range =  int(input(\"Enter the Higher range:\"))\n",
    "for n in range(Lower_Range,Higher_Range+1):\n",
    "    if n>1:\n",
    "        for i in range(2,n):\n",
    "            if n%i==0:\n",
    "                break\n",
    "        else:\n",
    "            print(n,end=\" \")"
   ]
  },
  {
   "cell_type": "markdown",
   "id": "a4a47ca9",
   "metadata": {},
   "source": [
    "#program to find sum of given integer"
   ]
  },
  {
   "cell_type": "code",
   "execution_count": 43,
   "id": "8c20fe20",
   "metadata": {},
   "outputs": [
    {
     "name": "stdout",
     "output_type": "stream",
     "text": [
      "Enter a number:123\n",
      "6\n"
     ]
    }
   ],
   "source": [
    "n=int(input(\"Enter a number:\"))\n",
    "sum=0\n",
    "while n>0:\n",
    "    \n",
    "    rem=n%10\n",
    "    sum=sum+rem\n",
    "    n=n//10\n",
    "print(sum)"
   ]
  },
  {
   "cell_type": "markdown",
   "id": "5c16aa67",
   "metadata": {},
   "source": [
    "#program to find revere number"
   ]
  },
  {
   "cell_type": "code",
   "execution_count": 44,
   "id": "c6cf99e4",
   "metadata": {},
   "outputs": [
    {
     "name": "stdout",
     "output_type": "stream",
     "text": [
      "Enter a number:234\n",
      "432\n"
     ]
    }
   ],
   "source": [
    "n = int(input(\"Enter a number:\"))\n",
    "rev=0\n",
    "while n>0:\n",
    "    rev = rev * 10 + n % 10\n",
    "    n=n//10\n",
    "print(rev)\n",
    "    "
   ]
  },
  {
   "cell_type": "raw",
   "id": "c0b3072b",
   "metadata": {},
   "source": [
    "#program to check given number is palindrome or not"
   ]
  },
  {
   "cell_type": "code",
   "execution_count": 45,
   "id": "dcad3ea5",
   "metadata": {},
   "outputs": [
    {
     "name": "stdout",
     "output_type": "stream",
     "text": [
      "Is Palindrome Number\n"
     ]
    }
   ],
   "source": [
    "n=11222222222222222222222222222222222222211\n",
    "\n",
    "def checkPalindrome(n):\n",
    "    rev=0\n",
    "    while n>0:\n",
    "        rev=rev*10+n%10\n",
    "        n=n//10\n",
    "    return rev\n",
    "\n",
    "print(\"Is Palindrome Number\") if (checkPalindrome(n)==n) else print(\"Not a Palindrome\")"
   ]
  },
  {
   "cell_type": "markdown",
   "id": "b764b201",
   "metadata": {},
   "source": [
    "#program to check given number is ARMSTRONG or not"
   ]
  },
  {
   "cell_type": "code",
   "execution_count": 46,
   "id": "3bb9ba42",
   "metadata": {},
   "outputs": [
    {
     "name": "stdout",
     "output_type": "stream",
     "text": [
      "ARMSTRONG\n"
     ]
    }
   ],
   "source": [
    "n = 153\n",
    "temp = n\n",
    "order = len(str(n))\n",
    "sum=0\n",
    "for i in range(order):\n",
    "    sum=sum+int(pow(temp%10,order))\n",
    "    temp//=10\n",
    "print(\"ARMSTRONG\") if sum==n else print(\"NOT ARMSTRONG\")\n",
    "    "
   ]
  },
  {
   "cell_type": "markdown",
   "id": "c59b0ae0",
   "metadata": {},
   "source": [
    "#program to print Armstong numbers in given range"
   ]
  },
  {
   "cell_type": "code",
   "execution_count": 47,
   "id": "d0cc56ed",
   "metadata": {},
   "outputs": [
    {
     "name": "stdout",
     "output_type": "stream",
     "text": [
      "1 2 3 4 5 6 7 8 9 153 "
     ]
    }
   ],
   "source": [
    "l=1\n",
    "h=154\n",
    "for n in range(l,h+1):\n",
    "    order=len(str(n))\n",
    "    sum=0\n",
    "    temp=n\n",
    "    while temp>0:\n",
    "        sum=sum+int(pow(temp%10,order))\n",
    "        temp//=10\n",
    "    if n==sum:\n",
    "        print(n,end=\" \")"
   ]
  },
  {
   "cell_type": "markdown",
   "id": "1e5a61d9",
   "metadata": {},
   "source": [
    "#program to print fibonnaci series upto give number"
   ]
  },
  {
   "cell_type": "code",
   "execution_count": 10,
   "id": "add23fd3",
   "metadata": {},
   "outputs": [
    {
     "name": "stdout",
     "output_type": "stream",
     "text": [
      "Enter the number:10\n",
      "FIBONNACI SERIES: 0 1 1 2 3 5 8 13 21 34 "
     ]
    }
   ],
   "source": [
    "n=int(input(\"Enter the number:\"))\n",
    "n1,n2=0,1\n",
    "print(\"FIBONNACI SERIES:\",n1,n2, end=\" \")\n",
    "for i in range(2,n):\n",
    "    n3=n1+n2\n",
    "    n1=n2\n",
    "    n2=n3\n",
    "    print(n3,end=\" \")"
   ]
  },
  {
   "cell_type": "markdown",
   "id": "94b1d8f7",
   "metadata": {},
   "source": [
    "#program to find factorial of given number"
   ]
  },
  {
   "cell_type": "code",
   "execution_count": 11,
   "id": "8719efb7",
   "metadata": {},
   "outputs": [
    {
     "name": "stdout",
     "output_type": "stream",
     "text": [
      "Enter the number:5\n",
      "120 "
     ]
    }
   ],
   "source": [
    "n=int(input(\"Enter the number:\"))\n",
    "fact=1\n",
    "for i in range(1,n+1):\n",
    "    fact=fact*i\n",
    "print(fact,end=\" \")"
   ]
  },
  {
   "cell_type": "markdown",
   "id": "8b55c5ba",
   "metadata": {},
   "source": [
    "#program to take input from user into list"
   ]
  },
  {
   "cell_type": "code",
   "execution_count": 2,
   "id": "fa71cc0f",
   "metadata": {},
   "outputs": [
    {
     "name": "stdout",
     "output_type": "stream",
     "text": [
      "Enter the size of list :4\n",
      "1\n",
      "2\n",
      "3\n",
      "4\n",
      "[1, 2, 3, 4]\n"
     ]
    }
   ],
   "source": [
    "list=[]\n",
    "n=int(input(\"Enter the size of list :\"))\n",
    "\n",
    "for i in range(n):\n",
    "    list.append(int(input()))\n",
    "print(list)"
   ]
  },
  {
   "cell_type": "markdown",
   "id": "d552bdc8",
   "metadata": {},
   "source": [
    "### program to check perfect number"
   ]
  },
  {
   "cell_type": "code",
   "execution_count": 10,
   "id": "6a080cad",
   "metadata": {},
   "outputs": [
    {
     "name": "stdout",
     "output_type": "stream",
     "text": [
      "Enter the number to check perfect no. or not :4\n",
      "Not perfect number\n",
      "Enter the number to check perfect no. or not :6\n",
      "Perfect number\n"
     ]
    }
   ],
   "source": [
    "for i in range(2):\n",
    "    n=int(input(\"Enter the number to check perfect no. or not :\"))\n",
    "    sum=0\n",
    "    for i in range(1,n):\n",
    "        if n%i==0:\n",
    "            sum=sum+i\n",
    "    print(\"Perfect number\") if sum==n else print(\"Not perfect number\")"
   ]
  },
  {
   "cell_type": "markdown",
   "id": "42e0616f",
   "metadata": {},
   "source": [
    "#Program to check given number is AUTOMORPHIC or not, Ex Automorphic: 25 square=625 , so here last two digits of 625 is equal to #25  "
   ]
  },
  {
   "cell_type": "code",
   "execution_count": 2,
   "id": "1dea135c",
   "metadata": {},
   "outputs": [
    {
     "name": "stdout",
     "output_type": "stream",
     "text": [
      "Enter a number to check for Automorphic or no :12\n",
      "Not Automorphic number\n"
     ]
    }
   ],
   "source": [
    "n = int(input(\"Enter a number to check for Automorphic or no :\"))\n",
    "square = pow(n,2)\n",
    "mod = pow(10,len(str(n)))\n",
    "print(\"Automorphic number\") if square%mod==n else print(\"Not Automorphic number\")\n",
    "    "
   ]
  },
  {
   "cell_type": "code",
   "execution_count": 4,
   "id": "8b2a6495",
   "metadata": {},
   "outputs": [
    {
     "name": "stdout",
     "output_type": "stream",
     "text": [
      "Enter a number to check for Automorphic or no :25\n",
      "Automorphic number\n"
     ]
    }
   ],
   "source": [
    "s = int(input(\"Enter a number to check for Automorphic or no :\"))\n",
    "square = pow(s,2)\n",
    "mod = pow(10,len(str(s)))\n",
    "print(\"Automorphic number\") if square%mod==s else print(\"Not Automorphic number\")\n",
    "    "
   ]
  },
  {
   "cell_type": "markdown",
   "id": "ef47d426",
   "metadata": {},
   "source": [
    "#program to find HCF of two numbers"
   ]
  },
  {
   "cell_type": "code",
   "execution_count": 4,
   "id": "c9a163f8",
   "metadata": {},
   "outputs": [
    {
     "name": "stdout",
     "output_type": "stream",
     "text": [
      "hcf of 10 and 12 is : 2\n"
     ]
    }
   ],
   "source": [
    "n1=10\n",
    "n2=12\n",
    "hcf=1\n",
    "for i in range(1,min(n1,n2)):\n",
    "               if n1%i==0 and n2%i==0:\n",
    "                      hcf=i\n",
    "                \n",
    "print(\"hcf of\",n1,\"and\",n2,\"is :\",hcf)\n",
    "                     "
   ]
  },
  {
   "cell_type": "markdown",
   "id": "0adc60b3",
   "metadata": {},
   "source": [
    "#Program to check Harshad number   #harshad no.: No. which is divisible by sum of its no.\n",
    "#Example : 21    , 2+1=3   , 21%3=0"
   ]
  },
  {
   "cell_type": "code",
   "execution_count": 12,
   "id": "9858b28e",
   "metadata": {},
   "outputs": [
    {
     "name": "stdout",
     "output_type": "stream",
     "text": [
      "Enter the Number to check :21\n",
      "3\n",
      "Its Harshad number\n"
     ]
    }
   ],
   "source": [
    "number = int(input(\"Enter the Number to check :\"))\n",
    "n=number\n",
    "sum=0\n",
    "while number>0:\n",
    "    rem = number%10\n",
    "    sum+=rem\n",
    "    number//=10\n",
    "print(sum)\n",
    "print(\"Its Harshad number\") if n%sum==0 else print(\"Not Harshad number\")"
   ]
  },
  {
   "cell_type": "code",
   "execution_count": 11,
   "id": "86d154a9",
   "metadata": {},
   "outputs": [
    {
     "name": "stdout",
     "output_type": "stream",
     "text": [
      "Enter the Number to check :23\n",
      "5\n",
      "Not Harshad number\n"
     ]
    }
   ],
   "source": [
    "number1 = int(input(\"Enter the Number to check :\"))\n",
    "n=number1\n",
    "sum=0\n",
    "while number1>0:\n",
    "    rem = number1%10\n",
    "    sum+=rem\n",
    "    number1//=10\n",
    "print(sum)\n",
    "print(\"Its Harshad number\") if n%sum==0 else print(\"Not Harshad number\")"
   ]
  },
  {
   "cell_type": "markdown",
   "id": "53ec1f20",
   "metadata": {},
   "source": [
    "#program to find LCM of two numbers"
   ]
  },
  {
   "cell_type": "code",
   "execution_count": 16,
   "id": "23848b9a",
   "metadata": {},
   "outputs": [
    {
     "name": "stdout",
     "output_type": "stream",
     "text": [
      "lcm of  24 and 12 is :  24\n"
     ]
    }
   ],
   "source": [
    "n1=24\n",
    "n2=12\n",
    "for i in range(max(n1,n2),1+(n1*n2)):\n",
    "    if i%n1==i%n2==0:\n",
    "         lcm=i\n",
    "         break\n",
    "print(\"lcm of \",n1 ,\"and\",n2,\"is : \",lcm)"
   ]
  },
  {
   "cell_type": "markdown",
   "id": "e818a75b",
   "metadata": {},
   "source": [
    "#Program to convert Binary to Decimal "
   ]
  },
  {
   "cell_type": "code",
   "execution_count": 3,
   "id": "775e0337",
   "metadata": {},
   "outputs": [
    {
     "name": "stdout",
     "output_type": "stream",
     "text": [
      "Enter the Binary number :100\n",
      "\n",
      "Binary value is 100\n",
      "Decimal value is 4\n"
     ]
    }
   ],
   "source": [
    "num=int(input(\"Enter the Binary number :\"))\n",
    "binaryValue = num\n",
    "decimalValue = 0\n",
    "base = 1\n",
    "while num>0:\n",
    "    rem = num%10\n",
    "    decimalValue = decimalValue + rem*base\n",
    "    num//=10\n",
    "    base*=2\n",
    "print(\"\\nBinary value is {}\\nDecimal value is {}\".format(binaryValue,decimalValue))"
   ]
  },
  {
   "cell_type": "markdown",
   "id": "37295451",
   "metadata": {},
   "source": [
    "#program to convert octal to decimal    no 8,9 octals"
   ]
  },
  {
   "cell_type": "code",
   "execution_count": 12,
   "id": "adee6bd5",
   "metadata": {},
   "outputs": [
    {
     "name": "stdout",
     "output_type": "stream",
     "text": [
      "octal number is 30\n",
      "Decimal number is 24\n"
     ]
    }
   ],
   "source": [
    "octalNum = 30\n",
    "decimalNum = int(str(octalNum),8)\n",
    "print(\"octal number is {}\\nDecimal number is {}\".format(octalNum,decimalNum))"
   ]
  },
  {
   "cell_type": "markdown",
   "id": "99f425df",
   "metadata": {},
   "source": [
    "#Program to replace all 0's whith 1's"
   ]
  },
  {
   "cell_type": "code",
   "execution_count": 3,
   "id": "49a463ee",
   "metadata": {},
   "outputs": [
    {
     "name": "stdout",
     "output_type": "stream",
     "text": [
      "Enter the numbers :1202\n",
      "Given number is 1202\n",
      "Converted number is 1212\n"
     ]
    }
   ],
   "source": [
    "n = int(input(\"Enter the numbers :\"))\n",
    "val = str(n)\n",
    "replaced = val.replace('0','1')\n",
    "print(\"Given number is {}\\nConverted number is {}\".format(n,replaced))"
   ]
  },
  {
   "cell_type": "markdown",
   "id": "342f2c6a",
   "metadata": {},
   "source": [
    "#Program to calculate the number of digits in a given number "
   ]
  },
  {
   "cell_type": "code",
   "execution_count": 1,
   "id": "a705eca7",
   "metadata": {},
   "outputs": [
    {
     "name": "stdout",
     "output_type": "stream",
     "text": [
      "Enter the number :4444\n",
      "4\n"
     ]
    }
   ],
   "source": [
    "number = int(input(\"Enter the number :\"))\n",
    "count=0\n",
    "while number>0:\n",
    "    number//=10\n",
    "    count+=1\n",
    "print(count)"
   ]
  },
  {
   "cell_type": "markdown",
   "id": "36de5037",
   "metadata": {},
   "source": [
    "# Program to find ASCII value   /* Use ord() function\n",
    "#Note: ASCII of SPACE is 32"
   ]
  },
  {
   "cell_type": "code",
   "execution_count": 2,
   "id": "43d4ad6e",
   "metadata": {},
   "outputs": [
    {
     "name": "stdout",
     "output_type": "stream",
     "text": [
      "Enter the words/Letter :Vishwa K Angolkar\n",
      "\n",
      "ASCII code of V is 86\n",
      "\n",
      "ASCII code of i is 105\n",
      "\n",
      "ASCII code of s is 115\n",
      "\n",
      "ASCII code of h is 104\n",
      "\n",
      "ASCII code of w is 119\n",
      "\n",
      "ASCII code of a is 97\n",
      "\n",
      "ASCII code of   is 32\n",
      "\n",
      "ASCII code of K is 75\n",
      "\n",
      "ASCII code of   is 32\n",
      "\n",
      "ASCII code of A is 65\n",
      "\n",
      "ASCII code of n is 110\n",
      "\n",
      "ASCII code of g is 103\n",
      "\n",
      "ASCII code of o is 111\n",
      "\n",
      "ASCII code of l is 108\n",
      "\n",
      "ASCII code of k is 107\n",
      "\n",
      "ASCII code of a is 97\n",
      "\n",
      "ASCII code of r is 114\n"
     ]
    }
   ],
   "source": [
    "wordOrLetter  = input('Enter the words/Letter :')\n",
    "for char in wordOrLetter:\n",
    "    print(\"\\nASCII code of {} is {}\".format(char,ord(char)))"
   ]
  },
  {
   "cell_type": "code",
   "execution_count": 13,
   "id": "7ba84e9b",
   "metadata": {},
   "outputs": [],
   "source": [
    "import handcalcs.render #handcalcs is module to render code automatically_in_latin \n",
    "from math import sqrt"
   ]
  },
  {
   "cell_type": "code",
   "execution_count": 14,
   "id": "fc225a81",
   "metadata": {},
   "outputs": [
    {
     "data": {
      "text/latex": [
       "\\[\n",
       "\\begin{aligned}\n",
       "a &= \\mathrm{Vishwa4444} \\; \n",
       "\\\\[10pt]\n",
       "b &= 44 \\; \n",
       "\\\\[10pt]\n",
       "c &= 444 \\; \n",
       "\\\\[10pt]\n",
       "d &= 4444 \\; \n",
       "\\end{aligned}\n",
       "\\]"
      ],
      "text/plain": [
       "<IPython.core.display.Latex object>"
      ]
     },
     "metadata": {},
     "output_type": "display_data"
    }
   ],
   "source": [
    "%%render\n",
    "a=\"Vishwa4444\"\n",
    "b=44\n",
    "c=444\n",
    "d=4444"
   ]
  },
  {
   "cell_type": "markdown",
   "id": "595b8a25",
   "metadata": {},
   "source": [
    "#Program to convert number to words #using num2words module"
   ]
  },
  {
   "cell_type": "code",
   "execution_count": 17,
   "id": "f219c3ae",
   "metadata": {},
   "outputs": [
    {
     "name": "stdout",
     "output_type": "stream",
     "text": [
      "Enter the number :4444\n",
      "\n",
      "\n",
      "4444 in words is four thousand, four hundred and forty-four\n"
     ]
    }
   ],
   "source": [
    "from num2words import num2words\n",
    "#print(num2words(123))\n",
    "str = input(\"Enter the number :\")\n",
    "print(\"\\n\\n{} in words is {}\".format(str,num2words(str)))"
   ]
  },
  {
   "cell_type": "markdown",
   "id": "39b754dc",
   "metadata": {},
   "source": [
    "#Program to take in arrays and print "
   ]
  },
  {
   "cell_type": "code",
   "execution_count": 12,
   "id": "88c6ffda",
   "metadata": {},
   "outputs": [
    {
     "name": "stdout",
     "output_type": "stream",
     "text": [
      "(2545189666480, 5)\n",
      "array('i', [1, 2, 3, 4, 5, 6])\n",
      "array('i', [6, 5, 4, 3, 2, 1])\n",
      "6 5 4 3 2 1 "
     ]
    }
   ],
   "source": [
    "from array import *\n",
    "list = array('i',[1,2,3,4,5])\n",
    "print(list.buffer_info())       #will give the size or length of array\n",
    "list.append(6)\n",
    "print(list)\n",
    "list.reverse()\n",
    "print(list)\n",
    "for i in range(len(list)):\n",
    "    print(list[i],end=\" \")\n",
    "    "
   ]
  },
  {
   "cell_type": "markdown",
   "id": "71945100",
   "metadata": {},
   "source": [
    "#Program to take array then create a newArray and then take square of the given array of each integer  "
   ]
  },
  {
   "cell_type": "code",
   "execution_count": 20,
   "id": "980b8fe5",
   "metadata": {},
   "outputs": [
    {
     "name": "stdout",
     "output_type": "stream",
     "text": [
      "144 1024 1936 3136 6084 "
     ]
    }
   ],
   "source": [
    "from array import *\n",
    "list = array('i',[12,32,44,56,78])\n",
    "#for i in range(len(list)):\n",
    "#    print(list[i],end=\" \")\n",
    "newarr = array(list.typecode,(a*a for a in list))\n",
    "for i in range(len(newarr)):\n",
    "    print(newarr[i],end=\" \")"
   ]
  },
  {
   "cell_type": "markdown",
   "id": "02928b4a",
   "metadata": {},
   "source": [
    "#This gives all the builtins in python"
   ]
  },
  {
   "cell_type": "code",
   "execution_count": 4,
   "id": "7e6d268a",
   "metadata": {},
   "outputs": [
    {
     "name": "stdout",
     "output_type": "stream",
     "text": [
      "['ArithmeticError', 'AssertionError', 'AttributeError', 'BaseException', 'BlockingIOError', 'BrokenPipeError', 'BufferError', 'BytesWarning', 'ChildProcessError', 'ConnectionAbortedError', 'ConnectionError', 'ConnectionRefusedError', 'ConnectionResetError', 'DeprecationWarning', 'EOFError', 'Ellipsis', 'EnvironmentError', 'Exception', 'False', 'FileExistsError', 'FileNotFoundError', 'FloatingPointError', 'FutureWarning', 'GeneratorExit', 'IOError', 'ImportError', 'ImportWarning', 'IndentationError', 'IndexError', 'InterruptedError', 'IsADirectoryError', 'KeyError', 'KeyboardInterrupt', 'LookupError', 'MemoryError', 'ModuleNotFoundError', 'NameError', 'None', 'NotADirectoryError', 'NotImplemented', 'NotImplementedError', 'OSError', 'OverflowError', 'PendingDeprecationWarning', 'PermissionError', 'ProcessLookupError', 'RecursionError', 'ReferenceError', 'ResourceWarning', 'RuntimeError', 'RuntimeWarning', 'StopAsyncIteration', 'StopIteration', 'SyntaxError', 'SyntaxWarning', 'SystemError', 'SystemExit', 'TabError', 'TimeoutError', 'True', 'TypeError', 'UnboundLocalError', 'UnicodeDecodeError', 'UnicodeEncodeError', 'UnicodeError', 'UnicodeTranslateError', 'UnicodeWarning', 'UserWarning', 'ValueError', 'Warning', 'WindowsError', 'ZeroDivisionError', '__IPYTHON__', '__build_class__', '__debug__', '__doc__', '__import__', '__loader__', '__name__', '__package__', '__spec__', 'abs', 'all', 'any', 'ascii', 'bin', 'bool', 'breakpoint', 'bytearray', 'bytes', 'callable', 'chr', 'classmethod', 'compile', 'complex', 'copyright', 'credits', 'delattr', 'dict', 'dir', 'display', 'divmod', 'enumerate', 'eval', 'exec', 'execfile', 'filter', 'float', 'format', 'frozenset', 'get_ipython', 'getattr', 'globals', 'hasattr', 'hash', 'help', 'hex', 'id', 'input', 'int', 'isinstance', 'issubclass', 'iter', 'len', 'license', 'list', 'locals', 'map', 'max', 'memoryview', 'min', 'next', 'object', 'oct', 'open', 'ord', 'pow', 'print', 'property', 'range', 'repr', 'reversed', 'round', 'runfile', 'set', 'setattr', 'slice', 'sorted', 'staticmethod', 'str', 'sum', 'super', 'tuple', 'type', 'vars', 'zip']\n"
     ]
    }
   ],
   "source": [
    "print(dir(__builtins__))"
   ]
  },
  {
   "cell_type": "markdown",
   "id": "e91ddabe",
   "metadata": {},
   "source": [
    "#Program to interchange first letter with the last letter in the list"
   ]
  },
  {
   "cell_type": "code",
   "execution_count": 8,
   "id": "8d5737d4",
   "metadata": {},
   "outputs": [
    {
     "name": "stdout",
     "output_type": "stream",
     "text": [
      "Enter the size of array :4\n",
      "1\n",
      "2\n",
      "3\n",
      "4\n",
      "[1, 2, 3, 4]\n",
      "[4, 2, 3, 1]\n"
     ]
    }
   ],
   "source": [
    "list =[]\n",
    "size = int(input(\"Enter the size of array :\"))\n",
    "for i in range(size):\n",
    "    list.append(int(input()))\n",
    "print(list)\n",
    "a=list[0]\n",
    "b=list[-1]\n",
    "list[-1]=a\n",
    "list[0]=b\n",
    "print(list)"
   ]
  },
  {
   "cell_type": "markdown",
   "id": "c8e7c0ef",
   "metadata": {},
   "source": [
    "#program to find the second largest number in the list"
   ]
  },
  {
   "cell_type": "code",
   "execution_count": 26,
   "id": "761683de",
   "metadata": {},
   "outputs": [
    {
     "name": "stdout",
     "output_type": "stream",
     "text": [
      "678\n"
     ]
    }
   ],
   "source": [
    "list=[12,13,13334,185,16,678]\n",
    "list.sort()    #python uses Tim sort algorithm to sort.\n",
    "list.pop()\n",
    "for i in range(len(list)):\n",
    "    largest= 12\n",
    "    if list[i]>=largest:\n",
    "        largest=list[i]\n",
    "print(largest)\n",
    "    \n"
   ]
  },
  {
   "cell_type": "markdown",
   "id": "d08c8d1d",
   "metadata": {},
   "source": [
    "#program to separate vowels fro the consonants"
   ]
  },
  {
   "cell_type": "code",
   "execution_count": 10,
   "id": "a609a23d",
   "metadata": {},
   "outputs": [
    {
     "name": "stdout",
     "output_type": "stream",
     "text": [
      "Enter the string :vishwa\n",
      "Vowels are :\n",
      "i,a,\n",
      "\n",
      "Consonants are :\n",
      "v,s,h,w,"
     ]
    }
   ],
   "source": [
    "str = input(\"Enter the string :\")\n",
    "print(\"Vowels are :\")\n",
    "for char in str:\n",
    "    if char in \"aeiouAEIOU\":\n",
    "        print(char,end=\",\")\n",
    "print(\"\\n\\nConsonants are :\")\n",
    "for char in str:\n",
    "    if char not  in \"aeiouAEIOU\":\n",
    "        print(char,end=\",\")\n",
    "         \n",
    "    \n",
    "        \n"
   ]
  },
  {
   "cell_type": "code",
   "execution_count": 2,
   "id": "10214277",
   "metadata": {},
   "outputs": [
    {
     "name": "stdout",
     "output_type": "stream",
     "text": [
      "[2, 12, 32, 33, 34, 67, 233]\n",
      "[2, 12, 32, 33, 34, 67]\n"
     ]
    }
   ],
   "source": [
    "list=[12,34,2,67,33,32,233]\n",
    "list.sort()\n",
    "print(list)\n",
    "list.pop()\n",
    "print(list)"
   ]
  },
  {
   "cell_type": "code",
   "execution_count": 2,
   "id": "260055d2",
   "metadata": {},
   "outputs": [
    {
     "name": "stdout",
     "output_type": "stream",
     "text": [
      "Ennter a string to reverse :vishwa k angolkar\n",
      "raklogna k awhsiv\n"
     ]
    }
   ],
   "source": [
    "str = input(\"Ennter a string to reverse :\") \n",
    "#[start:stop:step]\n",
    "print(str[::-1])"
   ]
  },
  {
   "cell_type": "markdown",
   "id": "f3208f3f",
   "metadata": {},
   "source": [
    "#program to find the maximun number of the handshakes done by a person in a room "
   ]
  },
  {
   "cell_type": "code",
   "execution_count": 6,
   "id": "1470e087",
   "metadata": {},
   "outputs": [
    {
     "name": "stdout",
     "output_type": "stream",
     "text": [
      "Enter the number of persons :5\n",
      "max no. of handshakes possible for 5 people are :  10\n"
     ]
    }
   ],
   "source": [
    "n=int(input(\"Enter the number of persons :\"))\n",
    "maxHandShakes = int(n*(n-1)/2)\n",
    "print(\"max no. of handshakes possible for\",n,\"people are : \",maxHandShakes)"
   ]
  },
  {
   "cell_type": "code",
   "execution_count": null,
   "id": "7e3f9832",
   "metadata": {},
   "outputs": [],
   "source": []
  },
  {
   "cell_type": "code",
   "execution_count": null,
   "id": "1a0d765a",
   "metadata": {},
   "outputs": [],
   "source": []
  }
 ],
 "metadata": {
  "kernelspec": {
   "display_name": "Python 3 (ipykernel)",
   "language": "python",
   "name": "python3"
  },
  "language_info": {
   "codemirror_mode": {
    "name": "ipython",
    "version": 3
   },
   "file_extension": ".py",
   "mimetype": "text/x-python",
   "name": "python",
   "nbconvert_exporter": "python",
   "pygments_lexer": "ipython3",
   "version": "3.9.7"
  }
 },
 "nbformat": 4,
 "nbformat_minor": 5
}
