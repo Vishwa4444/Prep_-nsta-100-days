{
 "cells": [
  {
   "cell_type": "markdown",
   "id": "3e5fe4dd",
   "metadata": {},
   "source": [
    "In a science research lab, combining two\n",
    "nuclear chemicals produces a maximum\n",
    "energy that is the product of the energy of the\n",
    "two chemicals  \n",
    "\n",
    "FIND TWO MAXIMUM NUMBERS FROM GIVEN LIST"
   ]
  },
  {
   "cell_type": "code",
   "execution_count": 1,
   "id": "85235706",
   "metadata": {},
   "outputs": [
    {
     "name": "stdout",
     "output_type": "stream",
     "text": [
      "enter n:4\n",
      "10 \n",
      "2\n",
      "10\n",
      "9\n",
      "[10, 2, 10, 9]\n",
      "[2, 9, 10, 10]\n",
      "20\n"
     ]
    }
   ],
   "source": [
    "\n",
    "n=int(input(\"enter n:\"))\n",
    "try:\n",
    "    list=[]\n",
    "    for i in range(n):\n",
    "        list.append(int(input()))\n",
    "except:\n",
    "    print(list)\n",
    "print(list)\n",
    "list.sort()\n",
    "print(list)    \n",
    "print(list[-1]+list[-2])"
   ]
  },
  {
   "cell_type": "markdown",
   "id": "9e3dfbb0",
   "metadata": {},
   "source": [
    "bitwise opertaions\n",
    "~ tilde :works on 8 bits   \n",
    "& bitwise &\n",
    "| bitwise or |\n",
    " left shift <<\n",
    " right shift >>"
   ]
  },
  {
   "cell_type": "code",
   "execution_count": 4,
   "id": "def8943f",
   "metadata": {},
   "outputs": [
    {
     "name": "stdout",
     "output_type": "stream",
     "text": [
      "-15\n"
     ]
    }
   ],
   "source": [
    "print(~14)"
   ]
  },
  {
   "cell_type": "code",
   "execution_count": 2,
   "id": "46acbcb8",
   "metadata": {},
   "outputs": [
    {
     "name": "stdout",
     "output_type": "stream",
     "text": [
      "-16\n"
     ]
    }
   ],
   "source": [
    " print(~10+~4)"
   ]
  },
  {
   "cell_type": "code",
   "execution_count": 4,
   "id": "bb71ae71",
   "metadata": {},
   "outputs": [
    {
     "name": "stdout",
     "output_type": "stream",
     "text": [
      "2\n"
     ]
    }
   ],
   "source": [
    "print(10 & 2)"
   ]
  },
  {
   "cell_type": "code",
   "execution_count": 5,
   "id": "742722d3",
   "metadata": {},
   "outputs": [
    {
     "name": "stdout",
     "output_type": "stream",
     "text": [
      "10\n"
     ]
    }
   ],
   "source": [
    "print(10 | 2)"
   ]
  },
  {
   "cell_type": "code",
   "execution_count": 6,
   "id": "254f7346",
   "metadata": {},
   "outputs": [
    {
     "name": "stdout",
     "output_type": "stream",
     "text": [
      "8\n"
     ]
    }
   ],
   "source": [
    "print(10 ^ 2)"
   ]
  },
  {
   "cell_type": "code",
   "execution_count": 7,
   "id": "2ada79d6",
   "metadata": {},
   "outputs": [
    {
     "name": "stdout",
     "output_type": "stream",
     "text": [
      "40\n"
     ]
    }
   ],
   "source": [
    "print(10 << 2)"
   ]
  },
  {
   "cell_type": "code",
   "execution_count": 8,
   "id": "2ab77ed9",
   "metadata": {},
   "outputs": [
    {
     "name": "stdout",
     "output_type": "stream",
     "text": [
      "2\n"
     ]
    }
   ],
   "source": [
    "print(10 >> 2)"
   ]
  },
  {
   "cell_type": "markdown",
   "id": "7e413a91",
   "metadata": {},
   "source": [
    "floor , ceil , pow in math module"
   ]
  },
  {
   "cell_type": "code",
   "execution_count": 23,
   "id": "c1a2f380",
   "metadata": {},
   "outputs": [
    {
     "name": "stdout",
     "output_type": "stream",
     "text": [
      "2\n"
     ]
    }
   ],
   "source": [
    "import math\n",
    "print(math.floor(2.9))"
   ]
  },
  {
   "cell_type": "code",
   "execution_count": 22,
   "id": "367e0e2d",
   "metadata": {},
   "outputs": [
    {
     "name": "stdout",
     "output_type": "stream",
     "text": [
      "3\n"
     ]
    }
   ],
   "source": [
    "import math\n",
    "print(math.ceil(2.1))"
   ]
  },
  {
   "cell_type": "markdown",
   "id": "1e9df657",
   "metadata": {},
   "source": [
    "3 ways to import the modules are\n",
    "1)import math\n",
    "\n",
    "2)import math as m\n",
    "\n",
    "3)from math import sqrt,pow"
   ]
  },
  {
   "cell_type": "code",
   "execution_count": 28,
   "id": "b993c923",
   "metadata": {},
   "outputs": [
    {
     "name": "stdout",
     "output_type": "stream",
     "text": [
      "8.0\n"
     ]
    }
   ],
   "source": [
    "import math as m\n",
    "print(m.pow(2,3))"
   ]
  },
  {
   "cell_type": "code",
   "execution_count": 31,
   "id": "98e47277",
   "metadata": {
    "scrolled": true
   },
   "outputs": [
    {
     "name": "stdout",
     "output_type": "stream",
     "text": [
      "27.0\n",
      "2.0\n"
     ]
    }
   ],
   "source": [
    "from math import pow ,sqrt\n",
    "print(pow(3,3))\n",
    "print(sqrt(4))"
   ]
  },
  {
   "cell_type": "markdown",
   "id": "c8befefe",
   "metadata": {},
   "source": [
    "program to find Even or odd"
   ]
  },
  {
   "cell_type": "code",
   "execution_count": 44,
   "id": "160297a7",
   "metadata": {},
   "outputs": [
    {
     "name": "stdout",
     "output_type": "stream",
     "text": [
      "Enter a number:4\n",
      "Even\n"
     ]
    }
   ],
   "source": [
    "n=int(input(\"Enter a number:\"))\n",
    "print(\"Even\") if(n%2==0) else print(\"Odd\") "
   ]
  },
  {
   "cell_type": "markdown",
   "id": "be724f7f",
   "metadata": {},
   "source": [
    "program to find sum of natural numbers"
   ]
  },
  {
   "cell_type": "code",
   "execution_count": 45,
   "id": "37ef2256",
   "metadata": {},
   "outputs": [
    {
     "name": "stdout",
     "output_type": "stream",
     "text": [
      "enter the numbers:4\n",
      "10.0\n"
     ]
    }
   ],
   "source": [
    "n = eval(input(\"enter the numbers:\"))\n",
    "print((n*(n+1))/2)"
   ]
  },
  {
   "cell_type": "markdown",
   "id": "57be7ccb",
   "metadata": {},
   "source": [
    "program to find greatest three numbers"
   ]
  },
  {
   "cell_type": "code",
   "execution_count": 55,
   "id": "925eb816",
   "metadata": {},
   "outputs": [
    {
     "name": "stdout",
     "output_type": "stream",
     "text": [
      "30\n"
     ]
    }
   ],
   "source": [
    "n1,n2,n3=10,20,30\n",
    "max=n1 if n1>n2 else n2\n",
    "max=n3 if n3>max else max\n",
    "print(max)"
   ]
  },
  {
   "cell_type": "markdown",
   "id": "ef5b4198",
   "metadata": {},
   "source": [
    "program to find greatest of two numbers"
   ]
  },
  {
   "cell_type": "code",
   "execution_count": 62,
   "id": "2af612ce",
   "metadata": {},
   "outputs": [
    {
     "name": "stdout",
     "output_type": "stream",
     "text": [
      "40\n"
     ]
    }
   ],
   "source": [
    "n1,n2=10,40\n",
    "print(n1) if (n1>n2) else print(n2)"
   ]
  },
  {
   "cell_type": "markdown",
   "id": "c26f1fe9",
   "metadata": {},
   "source": [
    "program to find leap year or not\n",
    "\n",
    "two conditions to  be in leap year\n",
    "\n",
    "1)it must be divisible by 400 \n",
    "\n",
    "2))it must divisible by 4 and not by 100\n"
   ]
  },
  {
   "cell_type": "code",
   "execution_count": 76,
   "id": "0aba96ba",
   "metadata": {},
   "outputs": [
    {
     "name": "stdout",
     "output_type": "stream",
     "text": [
      "Enter the year to check if its a leap year or not 2012\n",
      "leap year\n"
     ]
    }
   ],
   "source": [
    "year=int(input(\"Enter the year to check if its a leap year or not \"))\n",
    "print(\"leap year\") if (year%400==0 or year%4==0 and year%100!=0) else print(\"not leap year\")"
   ]
  },
  {
   "cell_type": "markdown",
   "id": "3e3c4dcd",
   "metadata": {},
   "source": [
    "program to find prime number "
   ]
  },
  {
   "cell_type": "code",
   "execution_count": 118,
   "id": "afbad430",
   "metadata": {},
   "outputs": [
    {
     "name": "stdout",
     "output_type": "stream",
     "text": [
      "Not Prime\n"
     ]
    }
   ],
   "source": [
    "n=27\n",
    "flag=0\n",
    "\n",
    "if n<2:\n",
    "    flag=1\n",
    "    \n",
    "else:\n",
    "    for i in range(2,int(pow(n,0.5)+1)):\n",
    "        if n%i==0:\n",
    "            flag=1\n",
    "            break\n",
    "print(\"Not Prime\") if flag == 1 else print(\"Prime\")            \n",
    "\n",
    "            "
   ]
  },
  {
   "cell_type": "markdown",
   "id": "cf3674f4",
   "metadata": {},
   "source": [
    "program to find prime number by recursion"
   ]
  },
  {
   "cell_type": "code",
   "execution_count": null,
   "id": "8ff92389",
   "metadata": {},
   "outputs": [],
   "source": [
    "n=5\n",
    "def checkPrime(n,i=2):\n",
    "    if n == i:\n",
    "        return True\n",
    "    if n%i==0:\n",
    "        return False\n",
    "    if n<2:\n",
    "        return False\n",
    "    return checkPrime(n,int(pow(i,0.5)+1))\n",
    "\n",
    "if checkPrime(n)==True:\n",
    "    print(\"Prime\")\n",
    "else:\n",
    "    print(\"Not Prime\")"
   ]
  },
  {
   "cell_type": "code",
   "execution_count": null,
   "id": "499643cc",
   "metadata": {},
   "outputs": [],
   "source": []
  }
 ],
 "metadata": {
  "kernelspec": {
   "display_name": "Python 3 (ipykernel)",
   "language": "python",
   "name": "python3"
  },
  "language_info": {
   "codemirror_mode": {
    "name": "ipython",
    "version": 3
   },
   "file_extension": ".py",
   "mimetype": "text/x-python",
   "name": "python",
   "nbconvert_exporter": "python",
   "pygments_lexer": "ipython3",
   "version": "3.9.7"
  }
 },
 "nbformat": 4,
 "nbformat_minor": 5
}
